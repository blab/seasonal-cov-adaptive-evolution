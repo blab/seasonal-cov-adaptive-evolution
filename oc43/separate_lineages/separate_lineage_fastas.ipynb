{
 "cells": [
  {
   "cell_type": "code",
   "execution_count": 2,
   "metadata": {},
   "outputs": [],
   "source": [
    "import re\n",
    "import json\n",
    "import pandas as pd\n",
    "import numpy as np\n",
    "import matplotlib.pyplot as plt\n",
    "import seaborn as sns\n",
    "from Bio import SeqIO\n",
    "from Bio.Seq import Seq\n",
    "from Bio.SeqRecord import SeqRecord\n",
    "from Bio import AlignIO\n",
    "from Bio.SeqFeature import SeqFeature, FeatureLocation\n",
    "from Bio.Align import MultipleSeqAlignment\n",
    "from Bio.Align import AlignInfo"
   ]
  },
  {
   "cell_type": "code",
   "execution_count": 4,
   "metadata": {},
   "outputs": [],
   "source": [
    "#get lineage membership from clade\n",
    "\n",
    "genes = ['replicase1ab', 'membrane', 'nucleocapsid', 'he']\n",
    "\n",
    "\n",
    "for gene in genes:\n",
    "    lineage_a = []\n",
    "    lineage_b = []\n",
    "    lineage_file = f'../results/clades_{gene}.json'\n",
    "\n",
    "    with open(lineage_file, \"r\") as lineage_handle:\n",
    "        lineages = json.load(lineage_handle)\n",
    "        for node, v in lineages['nodes'].items():\n",
    "            if 'NODE' not in node:\n",
    "                if v['clade_membership'] =='A':\n",
    "                    lineage_a.append(node)\n",
    "                elif v['clade_membership'] == 'B':\n",
    "                    lineage_b.append(node)\n",
    "                    \n",
    "    lineage_a_records = []\n",
    "    lineage_b_records = []\n",
    "    \n",
    "    data_file = f'../data/oc43_{gene}.fasta'\n",
    "    with open(data_file, \"r\") as handle:\n",
    "        for virus in SeqIO.parse(handle, \"fasta\"):\n",
    "            virus_id = virus.id.split('|')[0]\n",
    "            if virus_id in lineage_a:\n",
    "                if virus_id == 'oc43/KF963229/HCoV_OC43/FRA_EPI/Caen/1967/VR759/1967':\n",
    "                    pass\n",
    "                else:\n",
    "#                     new_record_description = virus_id + '|'+ virus.id.split('|')[3]\n",
    "                    lineage_a_records.append(SeqRecord(virus.seq, id=virus.id, description=virus.description))\n",
    "            if virus_id in lineage_b:\n",
    "#                 new_record_description = virus_id + '|'+ virus.id.split('|')[3]\n",
    "                lineage_b_records.append(SeqRecord(virus.seq, id=virus.id, description=virus.description))\n",
    "\n",
    "    SeqIO.write(lineage_a_records, f'data/oc43_a_{gene}.fasta', \"fasta\")\n",
    "    SeqIO.write(lineage_b_records, f'data/oc43_b_{gene}.fasta', \"fasta\")\n",
    "                    \n",
    "    \n"
   ]
  },
  {
   "cell_type": "code",
   "execution_count": null,
   "metadata": {},
   "outputs": [],
   "source": [
    "# get lineage membership manually\n",
    "# hard to find clade defining mutations for some genes (like env)\n",
    "\n"
   ]
  },
  {
   "cell_type": "code",
   "execution_count": null,
   "metadata": {},
   "outputs": [],
   "source": []
  },
  {
   "cell_type": "code",
   "execution_count": null,
   "metadata": {},
   "outputs": [],
   "source": []
  }
 ],
 "metadata": {
  "kernelspec": {
   "display_name": "Python 3 (ipykernel)",
   "language": "python",
   "name": "python3"
  },
  "language_info": {
   "codemirror_mode": {
    "name": "ipython",
    "version": 3
   },
   "file_extension": ".py",
   "mimetype": "text/x-python",
   "name": "python",
   "nbconvert_exporter": "python",
   "pygments_lexer": "ipython3",
   "version": "3.9.7"
  }
 },
 "nbformat": 4,
 "nbformat_minor": 2
}
