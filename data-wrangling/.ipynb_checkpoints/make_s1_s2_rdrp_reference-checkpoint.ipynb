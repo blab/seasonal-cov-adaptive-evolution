{
 "cells": [
  {
   "cell_type": "code",
   "execution_count": 19,
   "metadata": {},
   "outputs": [],
   "source": [
    "import re\n",
    "from Bio import SeqIO\n",
    "from Bio.Seq import Seq\n",
    "from Bio.SeqRecord import SeqRecord\n",
    "from Bio.Alphabet import IUPAC\n",
    "from Bio.SeqFeature import SeqFeature, FeatureLocation"
   ]
  },
  {
   "cell_type": "code",
   "execution_count": 25,
   "metadata": {},
   "outputs": [],
   "source": [
    "#first 6 aas of each domain\n",
    "#from uniprot: NL63 (Q6Q1S2), 229e(P15423), oc43 (P36334), hku1 (Q0ZME7)\n",
    "#nl63 s1 domain definition: https://www.ncbi.nlm.nih.gov/pmc/articles/PMC2693060/\n",
    "s1_domains = {'nl63': 'FFTCNS', '229e': 'CQTTNG', 'oc43': 'AVIGDL', 'hku1': 'AVIGDF'}\n",
    "s2_domains = {'nl63': 'SSDNGI', '229e': 'IIAVQP', 'oc43': 'AITTGY', 'hku1': 'SISASY'}\n",
    "\n",
    "rdrp_domains_start = {'oc43': 'SKDTNF'}\n",
    "rdrp_domains_end = {'oc43': 'RSAVMQ'}"
   ]
  },
  {
   "cell_type": "code",
   "execution_count": 14,
   "metadata": {},
   "outputs": [],
   "source": [
    "def write_gene_reference(gene_seq, gene_id, gene_name, gene_description, cov_type, outfile):\n",
    "    gene_record = SeqRecord(gene_seq, id= gene_id, \n",
    "                             name= gene_name, \n",
    "                             description= gene_description)\n",
    "    source_feature = SeqFeature(FeatureLocation(0, len(gene_seq)), type='source', \n",
    "                                qualifiers={'organsism':cov_type, \"mol_type\":\"genomic RNA\"}) \n",
    "    gene_record.features.append(source_feature)\n",
    "    cds_feature = SeqFeature(FeatureLocation(0, len(gene_seq)), type='CDS', qualifiers={'translation':gene_seq.translate()})\n",
    "    gene_record.features.append(cds_feature)\n",
    "\n",
    "    SeqIO.write(gene_record, outfile, 'genbank')"
   ]
  },
  {
   "cell_type": "code",
   "execution_count": 15,
   "metadata": {},
   "outputs": [],
   "source": [
    "def make_s1_s2_reference(cov):\n",
    "    spike_reference = '../'+str(cov)+'/config/'+str(cov)+'_spike_reference.gb'\n",
    "\n",
    "    with open(spike_reference, \"r\") as handle:\n",
    "        for record in SeqIO.parse(handle, \"genbank\"):\n",
    "            nt_seq = record.seq\n",
    "            aa_seq = record.seq.translate()\n",
    "            \n",
    "            s1_regex = re.compile(f'{s1_domains[cov]}.*(?={s2_domains[cov]})')\n",
    "            s1_aa = s1_regex.search(str(aa_seq)).group()\n",
    "            s1_aa_coords = [(aa.start(0), aa.end(0)) for aa in re.finditer(s1_regex, str(aa_seq))][0]\n",
    "            s1_nt_coords = [s1_aa_coords[0]*3, s1_aa_coords[1]*3]\n",
    "            s1_nt_seq = nt_seq[s1_nt_coords[0]: s1_nt_coords[1]]\n",
    "            \n",
    "            s2_regex = re.compile(f'{s2_domains[cov]}.*')\n",
    "            s2_aa = s2_regex.search(str(aa_seq)).group()\n",
    "            s2_aa_coords = [(aa.start(0), aa.end(0)) for aa in re.finditer(s2_regex, str(aa_seq))][0]\n",
    "            s2_nt_coords = [s2_aa_coords[0]*3, s2_aa_coords[1]*3]\n",
    "            s2_nt_seq = nt_seq[s2_nt_coords[0]: s2_nt_coords[1]]\n",
    "\n",
    "            write_gene_reference(s1_nt_seq, record.id, str(cov)+'_S1', 'spike s1 subdomain', \n",
    "                                 cov, '../'+str(cov)+'/config/'+str(cov)+'_s1_reference.gb')\n",
    "            write_gene_reference(s2_nt_seq, record.id, str(cov)+'_S2', 'spike s2 subdomain', \n",
    "                     cov, '../'+str(cov)+'/config/'+str(cov)+'_s2_reference.gb')"
   ]
  },
  {
   "cell_type": "code",
   "execution_count": 26,
   "metadata": {},
   "outputs": [],
   "source": [
    "# covs = ['oc43', '229e', 'nl63', 'hku1']\n",
    "covs = ['229e']\n",
    "for cov in covs:\n",
    "    make_s1_s2_reference(cov)"
   ]
  },
  {
   "cell_type": "code",
   "execution_count": 20,
   "metadata": {},
   "outputs": [],
   "source": [
    "def make_rdrp_reference(cov):\n",
    "    replicase_reference = '../'+str(cov)+'/config/'+str(cov)+'_replicase1ab_reference.gb'\n",
    "\n",
    "    with open(replicase_reference, \"r\") as handle:\n",
    "        for record in SeqIO.parse(handle, \"genbank\"):\n",
    "            nt_seq = record.seq\n",
    "            aa_seq = record.seq.translate()\n",
    "            \n",
    "            rdrp_regex = re.compile(f'{rdrp_domains_start[cov]}.*{rdrp_domains_end[cov]}')\n",
    "            rdrp_aa = rdrp_regex.search(str(aa_seq)).group()\n",
    "            rdrp_aa_coords = [(aa.start(0), aa.end(0)) for aa in re.finditer(rdrp_regex, str(aa_seq))][0]\n",
    "            rdrp_nt_coords = [rdrp_aa_coords[0]*3, rdrp_aa_coords[1]*3]\n",
    "            rdrp_nt_seq = nt_seq[rdrp_nt_coords[0]: rdrp_nt_coords[1]]\n",
    "\n",
    "            write_gene_reference(rdrp_nt_seq, record.id, str(cov)+'_rdrp', 'rna-dependent rna polymerase', \n",
    "                     cov, '../'+str(cov)+'/config/'+str(cov)+'_rdrp_reference.gb')"
   ]
  }
 ],
 "metadata": {
  "kernelspec": {
   "display_name": "Python 3",
   "language": "python",
   "name": "python3"
  },
  "language_info": {
   "codemirror_mode": {
    "name": "ipython",
    "version": 3
   },
   "file_extension": ".py",
   "mimetype": "text/x-python",
   "name": "python",
   "nbconvert_exporter": "python",
   "pygments_lexer": "ipython3",
   "version": "3.6.10"
  }
 },
 "nbformat": 4,
 "nbformat_minor": 4
}
