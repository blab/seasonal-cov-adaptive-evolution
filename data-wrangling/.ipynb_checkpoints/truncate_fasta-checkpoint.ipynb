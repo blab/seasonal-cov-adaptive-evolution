{
 "cells": [
  {
   "cell_type": "code",
   "execution_count": 1,
   "metadata": {},
   "outputs": [],
   "source": [
    "import re\n",
    "import json\n",
    "from os import path\n",
    "import pandas as pd\n",
    "import numpy as np\n",
    "from Bio import SeqIO\n",
    "from Bio.Seq import Seq\n",
    "from Bio.SeqRecord import SeqRecord\n",
    "from Bio import AlignIO\n",
    "from Bio.Align import MultipleSeqAlignment\n",
    "from Bio.Align import AlignInfo"
   ]
  },
  {
   "cell_type": "code",
   "execution_count": 13,
   "metadata": {},
   "outputs": [
    {
     "data": {
      "text/plain": [
       "59"
      ]
     },
     "execution_count": 13,
     "metadata": {},
     "output_type": "execute_result"
    }
   ],
   "source": [
    "\n",
    "input_file_alignment = '../229e/results/aligned_229e_s2.fasta'\n",
    "output_alignment_file = '../229e/results/aligned_229e_s2_truncate.fasta'\n",
    "\n",
    "sequences = []\n",
    "with open(input_file_alignment, \"r\") as aligned_handle:\n",
    "    for virus in SeqIO.parse(aligned_handle, \"fasta\"):\n",
    "        truncate_seq = virus.seq[:-129]\n",
    "\n",
    "        sequences.append(SeqRecord(truncate_seq, id=virus.id, description=virus.description))\n",
    "\n",
    "SeqIO.write(sequences, output_alignment_file, \"fasta\")"
   ]
  },
  {
   "cell_type": "code",
   "execution_count": 20,
   "metadata": {},
   "outputs": [
    {
     "data": {
      "text/plain": [
       "105"
      ]
     },
     "execution_count": 20,
     "metadata": {},
     "output_type": "execute_result"
    }
   ],
   "source": [
    "\n",
    "input_file_alignment = '../oc43/separate_lineages/results/aligned_oc43_a_spike.fasta'\n",
    "output_alignment_file = '../oc43/separate_lineages/results/aligned_oc43_a_spike_truncate.fasta'\n",
    "\n",
    "sequences = []\n",
    "with open(input_file_alignment, \"r\") as aligned_handle:\n",
    "    for virus in SeqIO.parse(aligned_handle, \"fasta\"):\n",
    "        seq = virus.seq\n",
    "        if 'N'*30 not in seq:\n",
    "            sequences.append(SeqRecord(seq, id=virus.id, description=virus.description))\n",
    "\n",
    "SeqIO.write(sequences, output_alignment_file, \"fasta\")"
   ]
  },
  {
   "cell_type": "code",
   "execution_count": 21,
   "metadata": {},
   "outputs": [
    {
     "data": {
      "text/plain": [
       "48"
      ]
     },
     "execution_count": 21,
     "metadata": {},
     "output_type": "execute_result"
    }
   ],
   "source": [
    "\n",
    "input_file_alignment = '../oc43/separate_lineages/results/aligned_oc43_b_spike.fasta'\n",
    "output_alignment_file = '../oc43/separate_lineages/results/aligned_oc43_b_spike_truncate.fasta'\n",
    "\n",
    "sequences = []\n",
    "with open(input_file_alignment, \"r\") as aligned_handle:\n",
    "    for virus in SeqIO.parse(aligned_handle, \"fasta\"):\n",
    "        seq = virus.seq\n",
    "        if 'N'*30 not in seq:\n",
    "            sequences.append(SeqRecord(seq, id=virus.id, description=virus.description))\n",
    "\n",
    "SeqIO.write(sequences, output_alignment_file, \"fasta\")"
   ]
  },
  {
   "cell_type": "code",
   "execution_count": 22,
   "metadata": {},
   "outputs": [
    {
     "data": {
      "text/plain": [
       "28"
      ]
     },
     "execution_count": 22,
     "metadata": {},
     "output_type": "execute_result"
    }
   ],
   "source": [
    "\n",
    "input_file_alignment = '../229e/results/aligned_229e_spike.fasta'\n",
    "output_alignment_file = '../229e/results/aligned_229e_spike_truncate.fasta'\n",
    "\n",
    "sequences = []\n",
    "with open(input_file_alignment, \"r\") as aligned_handle:\n",
    "    for virus in SeqIO.parse(aligned_handle, \"fasta\"):\n",
    "        seq = virus.seq\n",
    "        if 'N'*30 not in seq:\n",
    "            sequences.append(SeqRecord(seq, id=virus.id, description=virus.description))\n",
    "\n",
    "SeqIO.write(sequences, output_alignment_file, \"fasta\")"
   ]
  },
  {
   "cell_type": "code",
   "execution_count": 23,
   "metadata": {},
   "outputs": [
    {
     "data": {
      "text/plain": [
       "95"
      ]
     },
     "execution_count": 23,
     "metadata": {},
     "output_type": "execute_result"
    }
   ],
   "source": [
    "\n",
    "input_file_alignment = '../nl63/results/aligned_nl63_spike.fasta'\n",
    "output_alignment_file = '../nl63/results/aligned_nl63_spike_truncate.fasta'\n",
    "\n",
    "sequences = []\n",
    "with open(input_file_alignment, \"r\") as aligned_handle:\n",
    "    for virus in SeqIO.parse(aligned_handle, \"fasta\"):\n",
    "        seq = virus.seq\n",
    "        if 'N'*30 not in seq:\n",
    "            sequences.append(SeqRecord(seq, id=virus.id, description=virus.description))\n",
    "\n",
    "SeqIO.write(sequences, output_alignment_file, \"fasta\")"
   ]
  }
 ],
 "metadata": {
  "kernelspec": {
   "display_name": "Python 3",
   "language": "python",
   "name": "python3"
  },
  "language_info": {
   "codemirror_mode": {
    "name": "ipython",
    "version": 3
   },
   "file_extension": ".py",
   "mimetype": "text/x-python",
   "name": "python",
   "nbconvert_exporter": "python",
   "pygments_lexer": "ipython3",
   "version": "3.6.10"
  }
 },
 "nbformat": 4,
 "nbformat_minor": 4
}
