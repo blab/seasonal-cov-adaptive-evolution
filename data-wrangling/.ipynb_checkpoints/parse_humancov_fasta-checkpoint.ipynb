{
 "cells": [
  {
   "cell_type": "code",
   "execution_count": 1,
   "metadata": {},
   "outputs": [],
   "source": [
    "import re\n",
    "from Bio import SeqIO\n",
    "from Bio.SeqRecord import SeqRecord"
   ]
  },
  {
   "cell_type": "code",
   "execution_count": 2,
   "metadata": {},
   "outputs": [],
   "source": [
    "#Append virus subtype to fasta fields, to ultimately create column in fauna\n",
    "def add_subtype_to_virus_fastas(input_fasta):\n",
    "    output_fasta = str(input_fasta.replace('.fasta',''))+\"_annotated.fasta\"\n",
    "    #subtypes to look for\n",
    "    cov_subtypes = ['OC43', 'HKU1', 'NL63', '229E']\n",
    "    cov_types = {'OC43':'beta', 'HKU1':'beta', 'NL63':'alpha', '229E':'alpha'}\n",
    "    \n",
    "    sequences = []\n",
    "\n",
    "    with open(input_fasta, \"r\") as handle:\n",
    "        for record in SeqIO.parse(handle, \"fasta\"):\n",
    "            #Fix date formatting\n",
    "#             date = record.description.split('|')[3].replace('_','-')\n",
    "#             if len(date)==4:\n",
    "#                 date = date+'-XX-XX'\n",
    "#             if len(date)==7:\n",
    "#                 date = date+'-XX'\n",
    "            new_record_list = record.description.split('|')\n",
    "            #Fasta fields format: 'gb-id|strain|segment|date|host|country|subtype|virus species'\n",
    "#             new_record_list[3] = date\n",
    "            \n",
    "            #Annotate subtypes\n",
    "            new_record_list = new_record_list+['None', 'None', 'full']\n",
    "            for subtype in cov_subtypes:\n",
    "                if subtype in record.description:\n",
    "                    new_record_list[-3] = subtype.lower()\n",
    "                    new_record_list[-2] = cov_types[subtype]\n",
    "            #New fasta fields format: 'gb-id|strain|segment|date|host|country|subtype|virus species|subtype|type|sequence_locus'\n",
    "            new_record_description = '|'.join(new_record_list)\n",
    "\n",
    "            \n",
    "            sequences.append(SeqRecord(record.seq, id=new_record_description, description=new_record_description))\n",
    "\n",
    "    SeqIO.write(sequences, output_fasta, \"fasta\")"
   ]
  },
  {
   "cell_type": "code",
   "execution_count": 3,
   "metadata": {},
   "outputs": [],
   "source": [
    "add_subtype_to_virus_fastas(\"../data/human_cov_genome.fasta\")"
   ]
  },
  {
   "cell_type": "code",
   "execution_count": 94,
   "metadata": {},
   "outputs": [],
   "source": [
    "#Add virus subtype info to Spike and HE sequence files as well\n",
    "#Combine all Spike sequences into one file with virus type annotated\n",
    "def add_subtype_to_gene_fastas(gene):\n",
    "    cov_subtypes = ['OC43', 'HKU1', 'NL63', '229E']\n",
    "    cov_types = ['alpha', 'beta']\n",
    "    \n",
    "    sequences = []\n",
    "    \n",
    "    for virus_type in cov_types:\n",
    "        for virus_subtype in cov_subtypes:\n",
    "            input_fasta = '../../seasonal-corona-'+virus_type+'/data/'+virus_subtype+'_'+gene+'_genomealign.fasta'\n",
    "            try:\n",
    "                with open(input_fasta, \"r\") as handle:\n",
    "                    for record in SeqIO.parse(handle, \"fasta\"):\n",
    "                        #Fasta fields format: 'gb-id|strain|segment|date|host|country|subtype|virus species'\n",
    "                        #Fix date formatting\n",
    "#                         date = record.description.split('|')[3].replace('_','-')\n",
    "#                         if len(date)==4:\n",
    "#                             date = date+'-XX-XX'\n",
    "#                         if len(date)==7:\n",
    "#                             date = date+'-XX'\n",
    "                        new_record_list = record.description.split('|')\n",
    "#                         new_record_list[3] = date\n",
    "                        \n",
    "                        #Change accesion number and strain name to indicate gene, for fauna\n",
    "                        new_record_list[0] = new_record_list[0]+'_'+str(gene)\n",
    "                        new_record_list[1] = new_record_list[1]+'_'+str(gene)\n",
    "\n",
    "                        #Annotate subtypes\n",
    "                        new_record_list = new_record_list+[virus_subtype.lower(), virus_type, gene]\n",
    "\n",
    "                        #New fasta fields format: 'gb-id|strain|segment|date|host|country|subtype|virus species|subtype|type|sequence_locus'\n",
    "                        new_record_description = '|'.join(new_record_list)\n",
    "\n",
    "\n",
    "                        sequences.append(SeqRecord(record.seq, id=new_record_description, \n",
    "                                                   description=new_record_description))\n",
    "            except:\n",
    "                pass\n",
    "\n",
    "    output_fasta = '../data/human_cov_'+str(gene)+\"_annotated.fasta\"\n",
    "\n",
    "\n",
    "    SeqIO.write(sequences, output_fasta, \"fasta\")"
   ]
  },
  {
   "cell_type": "code",
   "execution_count": 95,
   "metadata": {},
   "outputs": [],
   "source": [
    "add_subtype_to_gene_fastas('spike')"
   ]
  },
  {
   "cell_type": "code",
   "execution_count": 96,
   "metadata": {},
   "outputs": [],
   "source": [
    "add_subtype_to_gene_fastas('he')"
   ]
  },
  {
   "cell_type": "code",
   "execution_count": 97,
   "metadata": {},
   "outputs": [],
   "source": [
    "#Combine full_seq, spike, he into one fasta file for upload\n",
    "def combine_all_loci_fastas():\n",
    "    loci = ['genome','spike','he']\n",
    "\n",
    "    sequences = []\n",
    "    for locus in loci:\n",
    "        input_fasta = '../data/human_cov_'+locus+'_annotated.fasta'\n",
    "        with open(input_fasta, \"r\") as handle:\n",
    "            for record in SeqIO.parse(handle, \"fasta\"):\n",
    "                sequences.append(record)\n",
    "\n",
    "    output_fasta = '../data/human_cov_annotated.fasta'\n",
    "\n",
    "    SeqIO.write(sequences, output_fasta, \"fasta\")"
   ]
  },
  {
   "cell_type": "code",
   "execution_count": 98,
   "metadata": {},
   "outputs": [],
   "source": [
    "combine_all_loci_fastas()"
   ]
  },
  {
   "cell_type": "code",
   "execution_count": null,
   "metadata": {},
   "outputs": [],
   "source": [
    "##The following is old"
   ]
  },
  {
   "cell_type": "code",
   "execution_count": 174,
   "metadata": {},
   "outputs": [],
   "source": [
    "#Make separate fastas for each virus\n",
    "def separate_virus_fastas(virus):\n",
    "    output_fasta = str(virus)+\".fasta\"\n",
    "    output_date_fasta = str(virus)+\"_datefix.fasta\"\n",
    "    sequences = []\n",
    "    sequences_datefix = []\n",
    "    with open(\"human_cov_genome_with_metadata.fasta\", \"r\") as handle:\n",
    "        for record in SeqIO.parse(handle, \"fasta\"):\n",
    "            if virus in record.description:\n",
    "                #Fix date formatting\n",
    "                date = record.description.split('|')[3].replace('_','-')\n",
    "                if len(date)==4:\n",
    "                    date = date+'-XX-XX'\n",
    "                if len(date)==7:\n",
    "                    date = date+'-XX'\n",
    "                new_record_list = record.description.split('|')\n",
    "                new_record_list[3] = date\n",
    "                new_record_description = '|'.join(new_record_list)\n",
    "                \n",
    "                #Fasta fields format: 'gb-id|strain|segment|date|host|country|subtype|virus species'\n",
    "                sequences.append(record)\n",
    "                sequences_datefix.append(SeqRecord(record.seq, id=new_record_description, description=new_record_description))\n",
    "    \n",
    "    SeqIO.write(sequences, output_fasta, \"fasta\")\n",
    "    SeqIO.write(sequences_datefix, output_date_fasta, \"fasta\")"
   ]
  },
  {
   "cell_type": "code",
   "execution_count": 173,
   "metadata": {},
   "outputs": [],
   "source": [
    "separate_virus_fastas('OC43')"
   ]
  },
  {
   "cell_type": "code",
   "execution_count": 175,
   "metadata": {},
   "outputs": [],
   "source": [
    "separate_virus_fastas('HKU1')"
   ]
  },
  {
   "cell_type": "code",
   "execution_count": 176,
   "metadata": {},
   "outputs": [],
   "source": [
    "separate_virus_fastas('NL63')"
   ]
  },
  {
   "cell_type": "code",
   "execution_count": 177,
   "metadata": {},
   "outputs": [],
   "source": [
    "separate_virus_fastas('229E')"
   ]
  }
 ],
 "metadata": {
  "kernelspec": {
   "display_name": "Python 3",
   "language": "python",
   "name": "python3"
  },
  "language_info": {
   "codemirror_mode": {
    "name": "ipython",
    "version": 3
   },
   "file_extension": ".py",
   "mimetype": "text/x-python",
   "name": "python",
   "nbconvert_exporter": "python",
   "pygments_lexer": "ipython3",
   "version": "3.6.10"
  }
 },
 "nbformat": 4,
 "nbformat_minor": 4
}
