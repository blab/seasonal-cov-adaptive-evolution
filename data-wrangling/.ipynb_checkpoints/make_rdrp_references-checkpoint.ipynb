{
 "cells": [
  {
   "cell_type": "code",
   "execution_count": 1,
   "metadata": {},
   "outputs": [],
   "source": [
    "from Bio import SeqIO\n",
    "from Bio.Seq import Seq\n",
    "from Bio.SeqRecord import SeqRecord\n",
    "from Bio.Alphabet import IUPAC\n",
    "from Bio.SeqFeature import SeqFeature, FeatureLocation"
   ]
  },
  {
   "cell_type": "code",
   "execution_count": 33,
   "metadata": {},
   "outputs": [],
   "source": [
    "def write_gene_reference(gene_seq, gene_name, gene_description, cov_type, outfile):\n",
    "    gene_record = SeqRecord(gene_seq, id= seq_record.id, \n",
    "                             name= gene_name, \n",
    "                             description= gene_description)\n",
    "    source_feature = SeqFeature(FeatureLocation(0, len(gene_seq)), type='source', \n",
    "                                qualifiers={'organsism':cov_type, \"mol_type\":\"genomic RNA\"}) \n",
    "    gene_record.features.append(source_feature)\n",
    "    cds_feature = SeqFeature(FeatureLocation(0, len(gene_seq)), type='CDS', qualifiers={'translation':gene_seq.translate()})\n",
    "    gene_record.features.append(cds_feature)\n",
    "\n",
    "    SeqIO.write(gene_record, outfile, 'genbank')"
   ]
  },
  {
   "cell_type": "code",
   "execution_count": null,
   "metadata": {},
   "outputs": [],
   "source": [
    "#229e\n",
    "#From UniProt P0C6X1 (R1AB_CVH22)\n",
    "#https://www.uniprot.org/uniprot/P0C6X1\n",
    "\n",
    "#In reference strain I have been using, find region homologous to:\n",
    "\n",
    ">sp|P0C6X1|4069-4995\n",
    "SFDNSYLNRVRGSSAARLEPCNGTDIDYCVRAFDVYNKDASFIGKNLKSNCVRFKNVDKD\n",
    "DAFYIVKRCIKSVMDHEQSMYNLLKGCNAVAKHDFFTWHEGRTIYGNVSRQDLTKYTMMD\n",
    "LCFALRNFDEKDCEVFKEILVLTGCCSTDYFEMKNWFDPIENEDIHRVYAALGKVVANAM\n",
    "LKCVAFCDEMVLKGVVGVLTLDNQDLNGNFYDFGDFVLCPPGMGIPYCTSYYSYMMPVMG\n",
    "MTNCLASECFMKSDIFGQDFKTFDLLKYDFTEHKEVLFNKYFKYWGQDYHPDCVDCHDEM\n",
    "CILHCSNFNTLFATTIPNTAFGPLCRKVFIDGVPVVATAGYHFKQLGLVWNKDVNTHSTR\n",
    "LTITELLQFVTDPTLIVASSPALVDKRTVCFSVAALSTGLTSQTVKPGHFNKEFYDFLRS\n",
    "QGFFDEGSELTLKHFFFTQKGDAAIKDFDYYRYNRPTMLDIGQARVAYQVAARYFDCYEG\n",
    "GCITSREVVVTNLNKSAGWPLNKFGKAGLYYESISYEEQDAIFSLTKRNILPTMTQLNLK\n",
    "YAISGKERARTVGGVSLLATMTTRQFHQKCLKSIVATRNATVVIGTTKFYGGWDNMLKNL\n",
    "MADVDDPKLMGWDYPKCDRAMPSMIRMLSAMILGSKHVTCCTASDKFYRLSNELAQVLTE\n",
    "VVYSNGGFYFKPGGTTSGDATTAYANSVFNIFQAVSSNINCVLSVNSSNCNNFNVKKLQR\n",
    "QLYDNCYRNSNVDESFVDDFYGYLQKHFSMMILSDDSVVCYNKTYAGLGYIADISAFKAT\n",
    "LYYQNGVFMSTAKCWTEEDLSIGPHEFCSQHTMQIVDENGKYYLPYPDPSRIISAGVFVD\n",
    "DITKTDAVILLERYVSLAIDAYPLSKHPKPEYRKVFYALLDWVKHLNKTLNEGVLESFSV\n",
    "TLLDEHESKFWDESFYASMYEKSTVLQ"
   ]
  },
  {
   "cell_type": "code",
   "execution_count": 34,
   "metadata": {},
   "outputs": [],
   "source": [
    "#229e\n",
    "\n",
    "for seq_record in SeqIO.parse(\"../229e/config/229e_full_reference.gb\", \"genbank\"):\n",
    "    for feature in seq_record.features:\n",
    "        if feature.type == 'CDS':\n",
    "            if feature.qualifiers['product'] == ['replicase polyprotein 1ab']:\n",
    "                rdrp_229e_nt = feature.location.extract(seq_record.seq)[12204:14985]\n",
    "                rdrp_229e_aa = feature.qualifiers['translation'][0][4068:4995]\n",
    "\n",
    "\n",
    "outfile = '../229e/config/229e_rdrp_reference.gb'\n",
    "write_gene_reference(rdrp_229e_nt, '229e_rdrp', 'rdrp sequence extracted from whole genome Genbank file', '229e', outfile)"
   ]
  },
  {
   "cell_type": "code",
   "execution_count": null,
   "metadata": {},
   "outputs": [],
   "source": [
    "#nl63\n",
    "#can't find rdrp/nsp12 annotated in a nl63 sequence or protein \n",
    "#use region homologous to 229e's nsp12 since both are alpha-CoVs"
   ]
  },
  {
   "cell_type": "code",
   "execution_count": 41,
   "metadata": {},
   "outputs": [
    {
     "name": "stdout",
     "output_type": "stream",
     "text": [
      "SVDISYLNRARGSSAARLEPCNGTDIDKCVRAFDIYNKNVSFLGKCLKMNCVRFKNADLKDGYFVIKRCTKSVMEHEQSMYNLLNFSGALAEHDFFTWKDGRVIYGNVSRHNLTKYTMMDLVYAMRNFDEQNCDVLKEVLVLTGCCDNSYFDSKGWYDPVENEDIHRVYASLGKIVARAMLKCVALCDAMVAKGVVGVLTLDNQDLNGNFYDFGDFVVSLPNMGVPCCTSYYSYMMPIMGLTNCLASECFVKSDIFGSDFKTFDLLKYDFTEHKENLFNKYFKHWSFDYHPNCSDCYDDMCVIHCANFNTLFATTIPGTAFGPLCRKVFIDGVPLVTTAGYHFKQLGLVWNKDVNTHSVRLTITELLQFVTDPSLIIASSPALVDQRTICFSVAALSTGLTNQVVKPGHFNEEFYNFLRLRGFFDEGSELTLKHFFFAQNGDAAVKDFDFYRYNKPTILDICQARVTYKIVSRYFDIYEGGCIKACEVVVTNLNKSAGWPLNKFGKASLYYESISYEEQDALFALTKRNVLPTMTQLNLKYAISGKERARTVGGVSLLSTMTTRQYHQKHLKSIVNTRNATVVIGTTKFYGGWNNMLRTLIDGVENPMLMGWDYPKCDRALPNMIRMISAMVLGSKHVNCCTATDRFYRLGNELAQVLTEVVYSNGGFYFKPGGTTSGDASTAYANSIFNIFQAVSSNINRLLSVPSDSCNNVNVRDLQRRLYDNCYRLTSVEESFIDDYYGYLRKHFSMMILSDDGVVCYNKDYAELGYIADISAFKATLYYQNNVFMSTSKCWVEEDLTKGPHEFCSQHTMQIVDKDGTYYLPYPDPSRILSAGVFVDDVVKTDAVVLLERYVSLAIDAYPLSKHPNSEYRKVFYVLLDWVKHLNKNLNEGVLESFSVTLLDNQEDKFWCEDFYASMYENSTILQ\n"
     ]
    }
   ],
   "source": [
    "#nl63\n",
    "\n",
    "for seq_record in SeqIO.parse(\"../nl63/config/nl63_full_reference.gb\", \"genbank\"):\n",
    "    for feature in seq_record.features:\n",
    "        if feature.type == 'CDS':\n",
    "            if feature.qualifiers['product'] == ['replicase polyprotein 1ab']:\n",
    "                rdrp_nl63_nt = feature.location.extract(seq_record.seq)[12129:14910]\n",
    "                rdrp_nl63_aa = feature.qualifiers['translation'][0][4043:4970]\n",
    "\n",
    "              \n",
    "                \n",
    "outfile = '../nl63/config/nl63_rdrp_reference.gb'\n",
    "write_gene_reference(rdrp_nl63_nt, 'nl63_rdrp', \n",
    "                     'rdrp sequence extracted from whole genome Genbank file based on homology to 229e rdrp', 'nl63', outfile)\n",
    "\n"
   ]
  },
  {
   "cell_type": "code",
   "execution_count": 46,
   "metadata": {},
   "outputs": [],
   "source": [
    "#hku1\n",
    "#full reference file has nsp12 annotated\n",
    "\n",
    "for seq_record in SeqIO.parse(\"../hku1/config/hku1_full_reference.gb\", \"genbank\"):\n",
    "    for feature in seq_record.features:\n",
    "        if feature.type == 'mat_peptide':\n",
    "            if feature.qualifiers['product'] == ['nsp12']:\n",
    "                rdrp_hku1_nt = feature.location.extract(seq_record.seq)\n",
    "                rdrp_hku1_aa = feature.location.extract(seq_record.seq).translate()\n",
    "              \n",
    "                \n",
    "outfile = '../hku1/config/hku1_rdrp_reference.gb'\n",
    "write_gene_reference(rdrp_hku1_nt, 'hku1_rdrp', \n",
    "                     'rdrp sequence extracted from whole genome Genbank file based on homology to oc43 rdrp', 'hku1', outfile)\n",
    "\n"
   ]
  }
 ],
 "metadata": {
  "kernelspec": {
   "display_name": "Python 3",
   "language": "python",
   "name": "python3"
  },
  "language_info": {
   "codemirror_mode": {
    "name": "ipython",
    "version": 3
   },
   "file_extension": ".py",
   "mimetype": "text/x-python",
   "name": "python",
   "nbconvert_exporter": "python",
   "pygments_lexer": "ipython3",
   "version": "3.6.10"
  }
 },
 "nbformat": 4,
 "nbformat_minor": 4
}
