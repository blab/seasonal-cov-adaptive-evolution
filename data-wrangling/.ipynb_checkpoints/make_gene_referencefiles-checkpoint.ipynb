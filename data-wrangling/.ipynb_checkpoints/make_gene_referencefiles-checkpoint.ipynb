{
 "cells": [
  {
   "cell_type": "code",
   "execution_count": 17,
   "metadata": {},
   "outputs": [],
   "source": [
    "from Bio import SeqIO\n",
    "from Bio.Seq import Seq\n",
    "from Bio.SeqRecord import SeqRecord\n",
    "from Bio.Alphabet import IUPAC\n",
    "from Bio.SeqFeature import SeqFeature, FeatureLocation"
   ]
  },
  {
   "cell_type": "code",
   "execution_count": 58,
   "metadata": {},
   "outputs": [],
   "source": [
    "def write_gene_reference(gene_seq, gene_name, gene_description, cov_type, outfile):\n",
    "    gene_record = SeqRecord(gene_seq, id= seq_record.id, \n",
    "                             name= gene_name, \n",
    "                             description= gene_description)\n",
    "    source_feature = SeqFeature(FeatureLocation(0, len(gene_seq)), type='source', \n",
    "                                qualifiers={'organsism':cov_type, \"mol_type\":\"genomic RNA\"}) \n",
    "    gene_record.features.append(source_feature)\n",
    "    cds_feature = SeqFeature(FeatureLocation(0, len(gene_seq)), type='CDS', qualifiers={'translation':gene_seq.translate()})\n",
    "    gene_record.features.append(cds_feature)\n",
    "\n",
    "    SeqIO.write(gene_record, outfile, 'genbank')"
   ]
  },
  {
   "cell_type": "code",
   "execution_count": 73,
   "metadata": {},
   "outputs": [],
   "source": [
    "#NL63 gene seqs\n",
    "\n",
    "nl63_genes = {\"replicase polyprotein 1ab\":'replicase1ab', \"spike protein\":'spike', \"protein 3\":'protein3', \n",
    "              \"envelope protein\":'envelope', \"membrane protein\":'membrane', \"nucleocapsid protein\":'nucleocapsid'}\n",
    "\n",
    "for seq_record in SeqIO.parse(\"../../nl63/config/nl63_full_reference.gb\", \"genbank\"):\n",
    "    cov_type = \"Human coronavirus NL63\"\n",
    "    for feature in seq_record.features:\n",
    "        if feature.type == 'CDS':\n",
    "            for k,v in nl63_genes.items():\n",
    "                if feature.qualifiers['product'] == [k]:\n",
    "                    gene_seq = feature.location.extract(seq_record.seq)\n",
    "                    gene_name = 'NL63_'+v\n",
    "                    gene_description = v + 'sequence extracted from whole genome Genbank file'\n",
    "                    outfile = '../../nl63/config/nl63_'+v+'_reference.gb'\n",
    "                    write_gene_reference(gene_seq, gene_name, gene_description, cov_type, outfile)"
   ]
  },
  {
   "cell_type": "code",
   "execution_count": 71,
   "metadata": {},
   "outputs": [],
   "source": [
    "#229E gene seqs\n",
    "\n",
    "two29e_genes = {\"replicase polyprotein 1ab\":'replicase1ab', \"replicase polyprotein 1a\":'replicase1a', \"surface glycoprotein\":'spike', \n",
    "                \"4a protein\":'protein4a', \"4b protein\":'protein4b',\n",
    "                \"envelope protein\":'envelope', \"membrane protein\":'membrane', \"nucleocapsid protein\":'nucleocapsid'}\n",
    "\n",
    "for seq_record in SeqIO.parse(\"../../229e/config/229e_full_reference.gb\", \"genbank\"):\n",
    "    cov_type = \"Human coronavirus 229E\"\n",
    "    for feature in seq_record.features:\n",
    "        if feature.type == 'CDS':\n",
    "            for k,v in two29e_genes.items():\n",
    "                if feature.qualifiers['product'] == [k]:\n",
    "                    gene_seq = feature.location.extract(seq_record.seq)\n",
    "                    gene_name = '229E_'+v\n",
    "                    gene_description = v + 'sequence extracted from whole genome Genbank file'\n",
    "                    outfile = '../../229e/config/229e_'+v+'_reference.gb'\n",
    "                    write_gene_reference(gene_seq, gene_name, gene_description, cov_type, outfile)"
   ]
  },
  {
   "cell_type": "code",
   "execution_count": 76,
   "metadata": {},
   "outputs": [],
   "source": [
    "#HKU1 gene seqs\n",
    "hku1_genes = {\"orf1ab polyprotein\":'replicase1ab', \"hemagglutinin-esterase glycoprotein\":'he', \n",
    "              \"spike glycoprotein\":'spike', \"non-structural protein\":'nonstructural4',\n",
    "              \"small membrane protein\":'envelope', \"membrane glycoprotein\":'membrane', \n",
    "              \"nucleocapsid phosphoprotein\":'nucleocapsid', \"nucleocapsid phosphoprotein 2\":'nucleocapsid2'}\n",
    "\n",
    "for seq_record in SeqIO.parse(\"../../hku1/config/hku1_full_reference.gb\", \"genbank\"):\n",
    "    cov_type = \"Human coronavirus HKU1\"\n",
    "    for feature in seq_record.features:\n",
    "        if feature.type == 'CDS':\n",
    "            for k,v in hku1_genes.items():\n",
    "                if feature.qualifiers['product'] == [k]:\n",
    "                    gene_seq = feature.location.extract(seq_record.seq)\n",
    "                    gene_name = 'HKU1_'+v\n",
    "                    gene_description = v + 'sequence extracted from whole genome Genbank file'\n",
    "                    outfile = '../../hku1/config/hku1_'+v+'_reference.gb'\n",
    "                    write_gene_reference(gene_seq, gene_name, gene_description, cov_type, outfile)"
   ]
  },
  {
   "cell_type": "code",
   "execution_count": 78,
   "metadata": {},
   "outputs": [],
   "source": [
    "#OC43 gene seqs\n",
    "oc43_genes = {\"replicase polyprotein\":'replicase1ab', \"NS2a protein\":'nonstructural2a',\n",
    "              \"HE protein\":'he', \"S protein\":'spike', \"NS2 protein\":'nonstructural2',\n",
    "              \"NS3 protein\":'envelope', \"M protein\":'membrane', \n",
    "              \"N protein\":'nucleocapsid', \"N2 protein\":'n2protein'}\n",
    "\n",
    "for seq_record in SeqIO.parse(\"../../oc43/config/oc43_full_reference.gb\", \"genbank\"):\n",
    "    cov_type = \"Human coronavirus OC43\"\n",
    "    for feature in seq_record.features:\n",
    "        if feature.type == 'CDS':\n",
    "            for k,v in oc43_genes.items():\n",
    "                if feature.qualifiers['product'] == [k]:\n",
    "                    gene_seq = feature.location.extract(seq_record.seq)\n",
    "                    gene_name = 'OC43_'+v\n",
    "                    gene_description = v + 'sequence extracted from whole genome Genbank file'\n",
    "                    outfile = '../../oc43/config/oc43_'+v+'_reference.gb'\n",
    "                    write_gene_reference(gene_seq, gene_name, gene_description, cov_type, outfile)"
   ]
  }
 ],
 "metadata": {
  "kernelspec": {
   "display_name": "Python 3",
   "language": "python",
   "name": "python3"
  },
  "language_info": {
   "codemirror_mode": {
    "name": "ipython",
    "version": 3
   },
   "file_extension": ".py",
   "mimetype": "text/x-python",
   "name": "python",
   "nbconvert_exporter": "python",
   "pygments_lexer": "ipython3",
   "version": "3.6.10"
  }
 },
 "nbformat": 4,
 "nbformat_minor": 2
}
