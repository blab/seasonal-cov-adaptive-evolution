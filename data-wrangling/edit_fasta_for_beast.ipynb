{
 "cells": [
  {
   "cell_type": "code",
   "execution_count": 44,
   "metadata": {},
   "outputs": [],
   "source": [
    "import re\n",
    "import json\n",
    "from os import path\n",
    "import pandas as pd\n",
    "import numpy as np\n",
    "from Bio import SeqIO\n",
    "from Bio.Seq import Seq\n",
    "from Bio.SeqRecord import SeqRecord\n",
    "from Bio import AlignIO\n",
    "from Bio.Align import MultipleSeqAlignment\n",
    "from Bio.Align import AlignInfo"
   ]
  },
  {
   "cell_type": "code",
   "execution_count": 45,
   "metadata": {},
   "outputs": [],
   "source": [
    "def edit_fasta_dates(cov, gene, separate_lineages=False):\n",
    "    input_file_alignment = '../beast/'+str(cov)+'/'+str(gene)+'/aligned_'+str(cov)+'_'+str(gene)+'.fasta'\n",
    "    \n",
    "    sequences = []\n",
    "    with open(input_file_alignment, \"r\") as aligned_handle:\n",
    "        for virus in SeqIO.parse(aligned_handle, \"fasta\"):\n",
    "            if separate_lineages:\n",
    "                clade_df = separate_clades(cov, gene)\n",
    "                for lineage in ['A', 'B']:\n",
    "                    if virus.id in clade_df[clade_df['clade']==lineage]['strain'].tolist():\n",
    "                        year = virus.id.split('/')[-1]\n",
    "                        year_check = re.compile('\\d{4}')\n",
    "                        if year_check.match(year):\n",
    "                            sequences.append(SeqRecord(virus.seq, id=virus.id, description=virus.description))\n",
    "                \n",
    "            else:\n",
    "                year = virus.id.split('/')[-1]\n",
    "                year_check = re.compile('\\d{4}')\n",
    "                if year_check.match(year):\n",
    "                    sequences.append(SeqRecord(virus.seq, id=virus.id, description=virus.description))\n",
    "                    \n",
    "    if separate_lineages:\n",
    "        for lineage in ['a', 'b']:\n",
    "            output_file_alignment = '../beast/'+str(cov)+str(lineage)+'/'+str(gene)+'/aligned_'+str(cov)+str(lineage)+'_'+str(gene)+'.fasta'\n",
    "            SeqIO.write(sequences, output_file_alignment, \"fasta\")\n",
    "    else:\n",
    "        SeqIO.write(sequences, input_file_alignment, \"fasta\")"
   ]
  },
  {
   "cell_type": "code",
   "execution_count": 48,
   "metadata": {},
   "outputs": [],
   "source": [
    "covs= ['hku1']\n",
    "genes = ['rdrp', 'spike', 's1', 's2']\n",
    "\n",
    "for cov in covs:\n",
    "    for gene in genes:\n",
    "        edit_fasta_dates(cov, gene, separate_lineages=True)"
   ]
  },
  {
   "cell_type": "code",
   "execution_count": 43,
   "metadata": {},
   "outputs": [],
   "source": [
    "covs= ['229e', 'nl63', 'oc43']\n",
    "genes = ['rdrp', 'spike', 's1', 's2']\n",
    "\n",
    "for cov in covs:\n",
    "    for gene in genes:\n",
    "        edit_fasta_dates(cov, gene)"
   ]
  },
  {
   "cell_type": "code",
   "execution_count": 46,
   "metadata": {},
   "outputs": [],
   "source": [
    "#split oc43 and hku1 into clades\n",
    "\n",
    "def separate_clades(cov, gene):\n",
    "\n",
    "    if path.exists('../'+str(cov)+'/results/clades_'+str(gene)+'.json'):\n",
    "        clade_file = '../'+str(cov)+'/results/clades_'+str(gene)+'.json'\n",
    "\n",
    "    else:\n",
    "        clade_file = '../'+str(cov)+'/results/clades_full.json'\n",
    "    \n",
    "    clade_lists = []\n",
    "    with open(clade_file, \"r\") as clade_handle:\n",
    "        clades = json.load(clade_handle)\n",
    "        for node, v in clades['nodes'].items():\n",
    "            if 'NODE' not in node:\n",
    "                clade_lists.append({'clade':v['clade_membership'],\n",
    "                                   'strain':node})\n",
    "\n",
    "    clade_df = pd.DataFrame(clade_lists)\n",
    "    return clade_df"
   ]
  },
  {
   "cell_type": "code",
   "execution_count": null,
   "metadata": {},
   "outputs": [],
   "source": []
  },
  {
   "cell_type": "code",
   "execution_count": null,
   "metadata": {},
   "outputs": [],
   "source": []
  }
 ],
 "metadata": {
  "kernelspec": {
   "display_name": "Python 3",
   "language": "python",
   "name": "python3"
  },
  "language_info": {
   "codemirror_mode": {
    "name": "ipython",
    "version": 3
   },
   "file_extension": ".py",
   "mimetype": "text/x-python",
   "name": "python",
   "nbconvert_exporter": "python",
   "pygments_lexer": "ipython3",
   "version": "3.6.10"
  }
 },
 "nbformat": 4,
 "nbformat_minor": 4
}
