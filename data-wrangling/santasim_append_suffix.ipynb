{
 "cells": [
  {
   "cell_type": "code",
   "execution_count": 3,
   "metadata": {},
   "outputs": [],
   "source": [
    "import re\n",
    "import json\n",
    "import os\n",
    "import pandas as pd\n",
    "import numpy as np"
   ]
  },
  {
   "cell_type": "code",
   "execution_count": 22,
   "metadata": {},
   "outputs": [],
   "source": [
    "spike_replicates = ['s1', 's2', 's3', 's4', 's5', 's6', 's7', 's8', \n",
    "                    's9', 's10', 's11', 's12', 's13', 's14', 's15', 's16']\n",
    "rdrp_replicates = ['s1', 's5', 's9', 's13']"
   ]
  },
  {
   "cell_type": "code",
   "execution_count": 20,
   "metadata": {},
   "outputs": [],
   "source": [
    "#append suffix to replicate simulation\n",
    "#move metadata and aligned file into santa-sim_oc43a-{gene}/results/\n",
    "def append_suffix(gene, suffix):\n",
    "    if gene == 'spike':\n",
    "        replicates = spike_replicates\n",
    "        directory_path = '../santa-sim_oc43a/santa-sim_oc43a-spike/'\n",
    "    elif gene == 'rdrp':\n",
    "        replicates = rdrp_replicates\n",
    "        directory_path = '../santa-sim_oc43a/santa-sim_oc43a-rdrp/'\n",
    "    for replicate in replicates:\n",
    "        aligned_file = f\"{directory_path}/replicates/results/aligned_{replicate}.fasta\"\n",
    "        aligned_file_suffix = f\"{directory_path}/results/aligned_{replicate}_{suffix}.fasta\"\n",
    "        meta_file = f\"{directory_path}/replicates/results/metadata_{replicate}.tsv\"\n",
    "        meta_file_suffix = f\"{directory_path}/results/metadata_{replicate}_{suffix}.tsv\"\n",
    "        os.rename(aligned_file, aligned_file_suffix)\n",
    "        os.rename(meta_file, meta_file_suffix)"
   ]
  },
  {
   "cell_type": "code",
   "execution_count": 31,
   "metadata": {},
   "outputs": [],
   "source": [
    "append_suffix('spike', '10')"
   ]
  }
 ],
 "metadata": {
  "kernelspec": {
   "display_name": "Python 3",
   "language": "python",
   "name": "python3"
  },
  "language_info": {
   "codemirror_mode": {
    "name": "ipython",
    "version": 3
   },
   "file_extension": ".py",
   "mimetype": "text/x-python",
   "name": "python",
   "nbconvert_exporter": "python",
   "pygments_lexer": "ipython3",
   "version": "3.6.10"
  }
 },
 "nbformat": 4,
 "nbformat_minor": 4
}
