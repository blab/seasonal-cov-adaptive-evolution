{
 "cells": [
  {
   "cell_type": "code",
   "execution_count": 238,
   "metadata": {},
   "outputs": [],
   "source": [
    "import pandas as pd\n",
    "import numpy as np\n",
    "import ast\n",
    "import re\n",
    "import json\n",
    "from ete3 import Tree\n",
    "from Bio import SeqIO\n",
    "from Bio.SeqRecord import SeqRecord"
   ]
  },
  {
   "cell_type": "code",
   "execution_count": 189,
   "metadata": {},
   "outputs": [
    {
     "name": "stdout",
     "output_type": "stream",
     "text": [
      "\n",
      "            /-H\n",
      "         /-|\n",
      "        |   \\-K\n",
      "      /-|\n",
      "     |  |   /-F\n",
      "   /-|   \\-|\n",
      "  |  |      \\-I\n",
      "  |  |\n",
      "  |   \\-E\n",
      "--|\n",
      "  |      /-L\n",
      "  |   /-|\n",
      "  |  |  |   /-N\n",
      "  |  |   \\-|\n",
      "   \\-|      \\-Q\n",
      "     |\n",
      "     |   /-P\n",
      "      \\-|\n",
      "         \\-S\n"
     ]
    }
   ],
   "source": [
    "#Test with fake data\n",
    "t = Tree('((((H,K)D,(F,I)G)B,E)A,((L,(N,Q)O)J,(P,S)M)C);', format=1)\n",
    "known_test = {'group1':['H','K'],\n",
    "              'group2':['L','N','Q'],\n",
    "              'group3':['E']\n",
    "             }\n",
    "print(t)"
   ]
  },
  {
   "cell_type": "code",
   "execution_count": 203,
   "metadata": {},
   "outputs": [
    {
     "name": "stdout",
     "output_type": "stream",
     "text": [
      "{'group1': {'I', 'H', 'K', 'F'}, 'group2': {'S', 'N', 'P', 'Q', 'L'}, 'group3': {'E'}}\n"
     ]
    }
   ],
   "source": [
    "subtyped_viruses = {key: set() for key in known_test.keys()}\n",
    "\n",
    "for node in t.iter_descendants(\"postorder\"):\n",
    "    leafs = node.get_leaves()\n",
    "    descendents = [leaf.name for leaf in leafs]\n",
    "\n",
    "    \n",
    "    for subtype in known_test.keys():\n",
    "\n",
    "        this_subtype = known_test[subtype]\n",
    "        remove_subtype = {key:val for key, val in known_test.items() if key != subtype}\n",
    "        other_subtypes = [item for sublist in list(remove_subtype.values()) for item in sublist]\n",
    "        #check if node has all known viruses of a subtype\n",
    "        if all(elem in descendents for elem in this_subtype):\n",
    "            #check that node doesn't have any viruses of other known subtypes\n",
    "            if not any(elem in descendents for elem in other_subtypes):\n",
    "                subtyped_viruses[subtype].update(descendents)\n",
    "\n",
    "\n",
    "print(subtyped_viruses)"
   ]
  },
  {
   "cell_type": "code",
   "execution_count": 219,
   "metadata": {},
   "outputs": [],
   "source": [
    "cov_tree = Tree('../results/tree_cov_full.nwk', format=1)\n",
    "cov_metadata = pd.read_csv('../results/metadata_cov_full.tsv', delimiter = '\\t').set_index('strain')"
   ]
  },
  {
   "cell_type": "code",
   "execution_count": 205,
   "metadata": {},
   "outputs": [],
   "source": [
    "#Known viruses for each subtype\n",
    "known = {'oc43':['KF963229', 'KF530087', 'KF530059', 'LC506876', 'KU131570', 'LC506782', 'LC506896'], \n",
    "         'hku1':['KR055515', 'KF430197', 'KF686339', 'KR055516', 'MF996629', 'MH940245'], \n",
    "         'nl63': ['KM055607', 'KT359837', 'KM055597', 'KM055602', 'JX104161', 'KY862037', 'MF996663'], \n",
    "         '229e': ['JX503060', 'LC005741', 'KM055524', 'KM055568', 'KJ866103', 'GU068548', 'KY369908', 'KT359754'],\n",
    "         'mers': ['KJ156950', 'KT357808', 'MK129253', 'KX034094', 'KJ156890'],\n",
    "         'sars1':['AY345986', 'GU553363', 'JN247396', 'DQ182595'],\n",
    "         'sars2':['MT326086', 'MT159717', 'MT304486']\n",
    "        }\n"
   ]
  },
  {
   "cell_type": "code",
   "execution_count": 233,
   "metadata": {},
   "outputs": [
    {
     "name": "stdout",
     "output_type": "stream",
     "text": [
      "869\n"
     ]
    }
   ],
   "source": [
    "subtyped_viruses = {key: set() for key in known.keys()}\n",
    "\n",
    "for node in cov_tree.iter_descendants(\"postorder\"):\n",
    "    leafs = node.get_leaves()\n",
    "    descendents = [leaf.name for leaf in leafs]\n",
    "\n",
    "    \n",
    "    for subtype in known.keys():\n",
    "\n",
    "        this_subtype = known[subtype]\n",
    "        remove_subtype = {key:val for key, val in known.items() if key != subtype}\n",
    "        other_subtypes = [item for sublist in list(remove_subtype.values()) for item in sublist]\n",
    "        #check if node has all known viruses of a subtype\n",
    "        if all(elem in descendents for elem in this_subtype):\n",
    "            #check that node doesn't have any viruses of other known subtypes\n",
    "            if not any(elem in descendents for elem in other_subtypes):\n",
    "                subtyped_viruses[subtype].update(descendents)\n",
    "\n",
    "\n",
    "print(len(subtyped_viruses['oc43']))"
   ]
  },
  {
   "cell_type": "code",
   "execution_count": 83,
   "metadata": {},
   "outputs": [
    {
     "name": "stdout",
     "output_type": "stream",
     "text": [
      "oc43 viruses not found on the tree\n",
      "[]\n",
      "hku1 viruses not found on the tree\n",
      "[]\n",
      "nl63 viruses not found on the tree\n",
      "[]\n",
      "229e viruses not found on the tree\n",
      "[]\n",
      "mers viruses not found on the tree\n",
      "[]\n",
      "sars1 viruses not found on the tree\n",
      "[]\n",
      "sars2 viruses not found on the tree\n",
      "[]\n"
     ]
    }
   ],
   "source": [
    "#Check that known viruses were included in tree\n",
    "all_viruses_in_tree = []\n",
    "\n",
    "for k in bt_tree.Objects:\n",
    "    if isinstance(k,bt.leaf):\n",
    "        all_viruses_in_tree.append(k.name)\n",
    "\n",
    "for subtype in known.keys():\n",
    "    known_names = known[subtype]\n",
    "    print(str(subtype)+' viruses not found on the tree')\n",
    "    print(np.setdiff1d(known_names,all_viruses_in_tree))"
   ]
  },
  {
   "cell_type": "code",
   "execution_count": 227,
   "metadata": {},
   "outputs": [
    {
     "name": "stdout",
     "output_type": "stream",
     "text": [
      "{'oc43': 495, 'hku1': 0, 'nl63': 0, '229e': 0, 'mers': 606, 'sars1': 54, 'sars2': 1140}\n"
     ]
    }
   ],
   "source": [
    "#Find viruses that weren't previously subtyped\n",
    "\n",
    "newly_subtyped = {key: 0 for key in known.keys()}\n",
    "\n",
    "for subtype in subtyped_viruses.keys():\n",
    "    for strain in subtyped_viruses[subtype]:\n",
    "        if cov_metadata.loc[strain]['subtype'] != subtype:\n",
    "            newly_subtyped[subtype]+=1\n",
    "#             print(cov_metadata.loc[strain]['subtype'])\n",
    "\n",
    "print(newly_subtyped)"
   ]
  },
  {
   "cell_type": "code",
   "execution_count": 247,
   "metadata": {},
   "outputs": [],
   "source": [
    "#Edit fasta file to include new labels\n",
    "#Append virus subtype to fasta fields, to ultimately create column in fauna\n",
    "def add_newly_subtyped_to_virus_fastas(input_fasta):\n",
    "    output_fasta = str(input_fasta.replace('.fasta',''))+\"_subtyped.fasta\"\n",
    "    cov_types = {'oc43':'beta', 'hku1':'beta', 'nl63':'alpha', '229e':'alpha', 'mers':'beta', 'sars1':'beta', 'sars2':'beta'}\n",
    "    \n",
    "    sequences = []\n",
    "\n",
    "    with open(input_fasta, \"r\") as handle:\n",
    "        for record in SeqIO.parse(handle, \"fasta\"):\n",
    "\n",
    "            new_record_list = record.description.split('|')\n",
    "\n",
    "            #Annotate subtypes\n",
    "            for subtype in known.keys():\n",
    "                strains = subtyped_viruses[subtype]\n",
    "                if new_record_list[0] in strains:\n",
    "                    new_record_list[-3] = subtype\n",
    "                    new_record_list[-2] = cov_types[subtype]\n",
    "            new_record_description = '|'.join(new_record_list)\n",
    "\n",
    "            \n",
    "            sequences.append(SeqRecord(record.seq, id=new_record_description, description=new_record_description))\n",
    "\n",
    "    SeqIO.write(sequences, output_fasta, \"fasta\")"
   ]
  },
  {
   "cell_type": "code",
   "execution_count": 248,
   "metadata": {},
   "outputs": [],
   "source": [
    "add_newly_subtyped_to_virus_fastas('../data/human_cov_full.fasta')"
   ]
  },
  {
   "cell_type": "code",
   "execution_count": 259,
   "metadata": {},
   "outputs": [],
   "source": [
    "def count_new_annotations(virus):\n",
    "    oc43_before = 0\n",
    "    oc43_after = 0\n",
    "    with open('../data/human_cov_full.fasta', \"r\") as handle:\n",
    "        for record in SeqIO.parse(handle, \"fasta\"):\n",
    "            if virus in record.id:\n",
    "                oc43_before+=1\n",
    "    with open('../data/human_cov_full_subtyped.fasta', \"r\") as handle:\n",
    "        for record in SeqIO.parse(handle, \"fasta\"):\n",
    "            if virus in record.id:\n",
    "                oc43_after+=1\n",
    "    print(oc43_before, oc43_after)"
   ]
  },
  {
   "cell_type": "code",
   "execution_count": 263,
   "metadata": {},
   "outputs": [
    {
     "name": "stdout",
     "output_type": "stream",
     "text": [
      "301 301\n"
     ]
    }
   ],
   "source": [
    "count_new_annotations('229e')"
   ]
  }
 ],
 "metadata": {
  "kernelspec": {
   "display_name": "Python 3",
   "language": "python",
   "name": "python3"
  },
  "language_info": {
   "codemirror_mode": {
    "name": "ipython",
    "version": 3
   },
   "file_extension": ".py",
   "mimetype": "text/x-python",
   "name": "python",
   "nbconvert_exporter": "python",
   "pygments_lexer": "ipython3",
   "version": "3.6.10"
  }
 },
 "nbformat": 4,
 "nbformat_minor": 4
}
