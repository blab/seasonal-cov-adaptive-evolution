{
 "cells": [
  {
   "cell_type": "code",
   "execution_count": 2,
   "metadata": {},
   "outputs": [],
   "source": [
    "import re\n",
    "import pandas as pd\n",
    "from Bio import SeqIO\n",
    "from Bio.SeqRecord import SeqRecord\n",
    "from Bio.SeqFeature import SeqFeature, FeatureLocation\n",
    "from Bio import AlignIO\n",
    "from collections import Counter \n",
    "from ete3 import Tree"
   ]
  },
  {
   "cell_type": "code",
   "execution_count": null,
   "metadata": {},
   "outputs": [],
   "source": [
    "#1. Download all coronaviruses from Vipr with human host. Select all possible metadata fields and download as a fasta"
   ]
  },
  {
   "cell_type": "code",
   "execution_count": null,
   "metadata": {},
   "outputs": [],
   "source": [
    "#2. Name this file 'human_cov_genome.fasta' and put it in the seasonal-cov/data/ directory"
   ]
  },
  {
   "cell_type": "code",
   "execution_count": null,
   "metadata": {},
   "outputs": [],
   "source": [
    "#3. Run add_subtype_to_virus_fastas function\n",
    "add_subtype_to_virus_fastas(\"../data/human_cov_genome.fasta\")"
   ]
  },
  {
   "cell_type": "code",
   "execution_count": null,
   "metadata": {},
   "outputs": [],
   "source": [
    "#4. Run fix_fasta_dateformat function\n",
    "fix_fasta_dateformat(\"../data/human_cov_genome_annotated.fasta\")"
   ]
  },
  {
   "cell_type": "code",
   "execution_count": null,
   "metadata": {},
   "outputs": [],
   "source": [
    "#5. In terminal, run: `snakemake` from seasonal-cov/"
   ]
  },
  {
   "cell_type": "code",
   "execution_count": 14,
   "metadata": {},
   "outputs": [],
   "source": [
    "#6. Run find_unlabeled_subtypes function\n",
    "find_unlabled_subtypes('../data/human_cov_full.fasta')"
   ]
  },
  {
   "cell_type": "code",
   "execution_count": 23,
   "metadata": {},
   "outputs": [],
   "source": [
    "#7. Run separate_virus_fastas function for each virus\n",
    "viruses = ['oc43', '229e', 'hku1', 'nl63']\n",
    "for virus in viruses:\n",
    "    separate_virus_fastas(virus)"
   ]
  },
  {
   "cell_type": "code",
   "execution_count": null,
   "metadata": {},
   "outputs": [],
   "source": [
    "#8. Toggle each virus's Snakefile to GENE = [\"full\"]. \n",
    "# In terminal, run: `snakemake` from within each virus directory"
   ]
  },
  {
   "cell_type": "code",
   "execution_count": 13,
   "metadata": {},
   "outputs": [],
   "source": [
    "#9. Run extract_genes function for each virus\n",
    "# viruses = ['oc43', '229e', 'hku1', 'nl63']\n",
    "viruses = ['hku1']\n",
    "for virus in viruses:\n",
    "    extract_genes(virus)"
   ]
  },
  {
   "cell_type": "code",
   "execution_count": null,
   "metadata": {},
   "outputs": [],
   "source": [
    "#10. Toggle each virus's Snakefile to GENE = [\"replicase1ab\", ...]. \n",
    "# In terminal, run: `snakemake` from within each virus directory"
   ]
  },
  {
   "cell_type": "code",
   "execution_count": 3,
   "metadata": {},
   "outputs": [],
   "source": [
    "#Append virus subtype to fasta fields, to ultimately create column in fauna\n",
    "def add_subtype_to_virus_fastas(input_fasta):\n",
    "    output_fasta = str(input_fasta.replace('.fasta',''))+\"_annotated.fasta\"\n",
    "    #subtypes to look for\n",
    "    cov_subtypes = ['OC43', 'HKU1', 'NL63', '229E']\n",
    "    cov_types = {'OC43':'beta', 'HKU1':'beta', 'NL63':'alpha', '229E':'alpha'}\n",
    "    \n",
    "    sequences = []\n",
    "\n",
    "    with open(input_fasta, \"r\") as handle:\n",
    "        for record in SeqIO.parse(handle, \"fasta\"):\n",
    "            new_record_list = record.description.split('|')\n",
    "\n",
    "            \n",
    "            #Annotate subtypes\n",
    "            new_record_list = new_record_list+['None', 'None', 'full']\n",
    "            for subtype in cov_subtypes:\n",
    "                if subtype in record.description:\n",
    "                    new_record_list[-3] = subtype.lower()\n",
    "                    new_record_list[-2] = cov_types[subtype]\n",
    "            #New fasta fields format: 'gb-id|strain|date|host|country|virus species|subtype|type|sequence_locus'\n",
    "            new_record_description = '|'.join(new_record_list)\n",
    "\n",
    "            \n",
    "            sequences.append(SeqRecord(record.seq, id=new_record_description, description=new_record_description))\n",
    "\n",
    "    SeqIO.write(sequences, output_fasta, \"fasta\")"
   ]
  },
  {
   "cell_type": "code",
   "execution_count": 4,
   "metadata": {},
   "outputs": [],
   "source": [
    "def fix_fasta_dateformat(input_fasta):\n",
    "    with open(input_fasta, \"r\") as handle:\n",
    "        new_cov_records = []\n",
    "        for record in SeqIO.parse(handle, \"fasta\"):\n",
    "            date = record.description.split('|')[3].replace('_','-')\n",
    "            if len(date)==4:\n",
    "                date = date+'-XX-XX'\n",
    "            if len(date)==7:\n",
    "                date = date+'-XX'\n",
    "            fix_date_description = record.description.split('|')\n",
    "            fix_date_description[3] = date\n",
    "            fix_date_description.pop(2)\n",
    "            fix_date_description.pop(5)\n",
    "            fix_date_description = '|'.join(fix_date_description)\n",
    "            new_record = SeqRecord(record.seq, id= fix_date_description, \n",
    "                                   name= fix_date_description, description= fix_date_description)\n",
    "            new_cov_records.append(new_record)\n",
    "        SeqIO.write(new_cov_records, \"../data/human_cov_full.fasta\", 'fasta')"
   ]
  },
  {
   "cell_type": "code",
   "execution_count": 5,
   "metadata": {},
   "outputs": [],
   "source": [
    "#Known viruses for each subtype\n",
    "known = {'oc43':['KF963229', 'KF530087', 'KF530059', 'LC506876', 'KU131570', 'LC506782', 'LC506896'], \n",
    "         'hku1':['KR055515', 'KF430197', 'KF686339', 'KR055516', 'MF996629', 'MH940245'], \n",
    "         'nl63': ['KM055607', 'KT359837', 'KM055597', 'KM055602', 'JX104161', 'KY862037', 'MF996663'], \n",
    "         '229e': ['JX503060', 'LC005741', 'KM055524', 'KM055568', 'KJ866103', 'GU068548', 'KY369908', 'KT359754'],\n",
    "         'mers': ['KJ156950', 'KT357808', 'MK129253', 'KX034094', 'KJ156890'],\n",
    "         'sars1':['AY345986', 'GU553363', 'JN247396', 'DQ182595'],\n",
    "         'sars2':['MT326086', 'MT159717', 'MT304486']\n",
    "        }\n",
    "\n",
    "def find_unlabled_subtypes(input_fasta):\n",
    "    cov_tree = Tree('../results/tree_cov_full.nwk', format=1)\n",
    "    cov_metadata = pd.read_csv('../results/metadata_cov_full.tsv', delimiter = '\\t').set_index('strain')\n",
    "    \n",
    "    subtyped_viruses = {key: set() for key in known.keys()}\n",
    "\n",
    "    for node in cov_tree.iter_descendants(\"postorder\"):\n",
    "        leafs = node.get_leaves()\n",
    "        descendents = [leaf.name for leaf in leafs]\n",
    "\n",
    "\n",
    "        for subtype in known.keys():\n",
    "\n",
    "            this_subtype = known[subtype]\n",
    "            remove_subtype = {key:val for key, val in known.items() if key != subtype}\n",
    "            other_subtypes = [item for sublist in list(remove_subtype.values()) for item in sublist]\n",
    "            #check if node has all known viruses of a subtype\n",
    "            if all(elem in descendents for elem in this_subtype):\n",
    "                #check that node doesn't have any viruses of other known subtypes\n",
    "                if not any(elem in descendents for elem in other_subtypes):\n",
    "                    subtyped_viruses[subtype].update(descendents)\n",
    "    \n",
    "    output_fasta = str(input_fasta.replace('.fasta',''))+\"_subtyped.fasta\"\n",
    "    add_newly_subtyped_to_virus_fastas(input_fasta, subtyped_viruses, output_fasta)\n",
    "    make_strainname(output_fasta)\n",
    "\n",
    "    \n",
    "def make_strainname(output_fasta):\n",
    "    \n",
    "    new_strainname_records = []\n",
    "\n",
    "    with open(output_fasta, \"r\") as handle:\n",
    "        for record in SeqIO.parse(handle, \"fasta\"):\n",
    "\n",
    "            new_record_list = record.description.split('|')\n",
    "            #Make strain name from subtype, accession number, strain, and date\n",
    "            year = str(new_record_list[2])[0:4]\n",
    "            strain_name = str(new_record_list[-3])+'/'+str(new_record_list[0])+'/'+str(new_record_list[1])+'/'+year\n",
    "            \n",
    "            new_record_list = [strain_name] + new_record_list\n",
    "            #New fasta fields format: 'strain_name|gb-id|strain|date|host|country|virus species|subtype|type|sequence_locus'\n",
    "            new_record_description = '|'.join(new_record_list)\n",
    "            \n",
    "            new_record = SeqRecord(record.seq, id= new_record_description, \n",
    "                                   name= new_record_description, description= new_record_description)\n",
    "            new_strainname_records.append(new_record)\n",
    "            \n",
    "    SeqIO.write(new_strainname_records, output_fasta, \"fasta\")\n",
    "    \n",
    "                    \n",
    "def add_newly_subtyped_to_virus_fastas(input_fasta, subtyped_viruses, output_fasta):\n",
    "    cov_types = {'oc43':'beta', 'hku1':'beta', 'nl63':'alpha', '229e':'alpha', 'mers':'beta', 'sars1':'beta', 'sars2':'beta'}\n",
    "    \n",
    "    new_subtype_records = []\n",
    "\n",
    "    with open(input_fasta, \"r\") as handle:\n",
    "        for record in SeqIO.parse(handle, \"fasta\"):\n",
    "\n",
    "            new_record_list = record.description.split('|')\n",
    "\n",
    "            #Annotate subtypes\n",
    "            for subtype in known.keys():\n",
    "                strains = subtyped_viruses[subtype]\n",
    "                if new_record_list[0] in strains:\n",
    "                    new_record_list[-3] = subtype\n",
    "                    new_record_list[-2] = cov_types[subtype]\n",
    "            new_record_description = '|'.join(new_record_list)\n",
    "            \n",
    "            new_record = SeqRecord(record.seq, id= new_record_description, \n",
    "                       name= new_record_description, description= new_record_description)\n",
    "            new_subtype_records.append(new_record)\n",
    "\n",
    "    SeqIO.write(new_subtype_records, output_fasta, \"fasta\")\n",
    "    "
   ]
  },
  {
   "cell_type": "code",
   "execution_count": 6,
   "metadata": {},
   "outputs": [],
   "source": [
    "def separate_virus_fastas(virus):\n",
    "    output_fasta = \"../\"+str(virus)+\"/data/\"+str(virus)+\"_full.fasta\"\n",
    "    sequences = []\n",
    "    with open(\"../data/human_cov_full_subtyped.fasta\", \"r\") as handle:\n",
    "        for record in SeqIO.parse(handle, \"fasta\"):\n",
    "            if virus in record.description:\n",
    "                #Fix date formatting\n",
    "                date = record.description.split('|')[3].replace('_','-')\n",
    "                if len(date)==4:\n",
    "                    date = date+'-XX-XX'\n",
    "                if len(date)==7:\n",
    "                    date = date+'-XX'\n",
    "                new_record_list = record.description.split('|')\n",
    "                new_record_list[3] = date\n",
    "                new_record_description = '|'.join(new_record_list)\n",
    "                \n",
    "                #Fasta fields format: 'gb-id|strain|segment|date|host|country|subtype|virus species'\n",
    "                sequences.append(SeqRecord(record.seq, id=new_record_description, description=new_record_description))\n",
    "\n",
    "    SeqIO.write(sequences, output_fasta, \"fasta\")"
   ]
  },
  {
   "cell_type": "code",
   "execution_count": 7,
   "metadata": {},
   "outputs": [],
   "source": [
    "#Gene positions for each virus\n",
    "def get_virus_genes(virus):\n",
    "    if virus == 'nl63':\n",
    "        genes_dict = {'replicase1ab':\"replicase polyprotein 1ab\", 'spike':\"spike protein\", 'protein3':\"protein 3\", \n",
    "                      'envelope':\"envelope protein\", 'membrane':\"membrane protein\", 'nucleocapsid':\"nucleocapsid protein\", \n",
    "                      's1':'spike_subdomain1', 's2':'spike_subdomain2'}\n",
    "    elif virus == '229e':\n",
    "        genes_dict = {'replicase1ab':\"replicase polyprotein 1ab\", 'replicase1a': \"replicase polyprotein 1a\", 'spike':\"surface glycoprotein\", \n",
    "                      'protein4a':\"4a protein\", 'protein4b':\"4b protein\",\n",
    "                      'envelope':\"envelope protein\", 'membrane':\"membrane protein\", 'nucleocapsid':\"nucleocapsid protein\", \n",
    "                      's1':'spike_subdomain1', 's2':'spike_subdomain2'}\n",
    "    elif virus == 'hku1':\n",
    "        genes_dict = {'replicase1ab':\"orf1ab polyprotein\", 'he':\"hemagglutinin-esterase glycoprotein\", \n",
    "                      'spike':\"spike glycoprotein\", 'nonstructural4':\"non-structural protein\",\n",
    "                      'envelope':\"small membrane protein\", 'membrane':\"membrane glycoprotein\", \n",
    "                      'nucleocapsid':\"nucleocapsid phosphoprotein\", 'nucleocapsid2':\"nucleocapsid phosphoprotein 2\", \n",
    "                      's1':'spike_subdomain1', 's2':'spike_subdomain2'}\n",
    "    elif virus == 'oc43':\n",
    "        genes_dict = {'replicase1ab':\"replicase polyprotein\", 'nonstructural2a':\"NS2a protein\",\n",
    "                      'he':\"HE protein\", 'spike':\"S protein\", 'nonstructural2':\"NS2 protein\",\n",
    "                      'envelope':\"NS3 protein\", 'membrane':\"M protein\", \n",
    "                      'nucleocapsid':\"N protein\", 'n2protein':\"N2 protein\", \n",
    "                      's1':'spike_subdomain1', 's2':'spike_subdomain2'}\n",
    "    return genes_dict\n"
   ]
  },
  {
   "cell_type": "code",
   "execution_count": 8,
   "metadata": {},
   "outputs": [],
   "source": [
    "#first 6 aas of each domain\n",
    "#from uniprot: NL63 (Q6Q1S2), 229e(P15423), oc43 (P36334), hku1 (Q0ZME7)\n",
    "s1_domains = {'nl63': 'CNSNAN', '229e': 'CQTTNG', 'oc43': 'AVIGDL', 'hku1': 'AVIGDF'}\n",
    "s2_domains = {'nl63': 'SNGGNN', '229e': 'SNGTYN', 'oc43': 'AITTGY', 'hku1': 'SISASY'}"
   ]
  },
  {
   "cell_type": "code",
   "execution_count": 9,
   "metadata": {},
   "outputs": [],
   "source": [
    "def get_s1_coords(virus):\n",
    "    spike_reference = '../'+str(virus)+'/config/'+str(virus)+'_spike_reference.gb'\n",
    "\n",
    "    with open(spike_reference, \"r\") as handle:\n",
    "        for record in SeqIO.parse(handle, \"genbank\"):\n",
    "            nt_seq = record.seq\n",
    "            aa_seq = record.seq.translate()\n",
    "            \n",
    "            s1_regex = re.compile(f'{s1_domains[virus]}.*(?={s2_domains[virus]})')\n",
    "            s1_aa = s1_regex.search(str(aa_seq)).group()\n",
    "            s1_aa_coords = [(aa.start(0), aa.end(0)) for aa in re.finditer(s1_regex, str(aa_seq))][0]\n",
    "            s1_nt_coords = [s1_aa_coords[0]*3, s1_aa_coords[1]*3]\n",
    "    return s1_nt_coords"
   ]
  },
  {
   "cell_type": "code",
   "execution_count": 10,
   "metadata": {},
   "outputs": [],
   "source": [
    "def get_s2_coords(virus):\n",
    "    spike_reference = '../'+str(virus)+'/config/'+str(virus)+'_spike_reference.gb'\n",
    "\n",
    "    with open(spike_reference, \"r\") as handle:\n",
    "        for record in SeqIO.parse(handle, \"genbank\"):\n",
    "            nt_seq = record.seq\n",
    "            aa_seq = record.seq.translate()\n",
    "            \n",
    "            s2_regex = re.compile(f'{s2_domains[virus]}.*')\n",
    "            s2_aa = s2_regex.search(str(aa_seq)).group()\n",
    "            s2_aa_coords = [(aa.start(0), aa.end(0)) for aa in re.finditer(s2_regex, str(aa_seq))][0]\n",
    "            s2_nt_coords = [s2_aa_coords[0]*3, s2_aa_coords[1]*3]\n",
    "    return s2_nt_coords"
   ]
  },
  {
   "cell_type": "code",
   "execution_count": 11,
   "metadata": {},
   "outputs": [],
   "source": [
    "#Gene positions for each virus\n",
    "def get_gene_position_test(virus, gene, sequence):\n",
    "    genes_dict = get_virus_genes(virus)\n",
    "    \n",
    "    for seq_record in SeqIO.parse(\"../\"+str(virus)+\"/config/\"+str(virus)+\"_full_reference.gb\", \"genbank\"):\n",
    "        for feature in seq_record.features:\n",
    "            if feature.type == 'CDS':\n",
    "                if gene != 's1' and gene != 's2':\n",
    "                    if feature.qualifiers['product'] == [genes_dict[gene]]:\n",
    "                        gene_nt = feature.location.extract(sequence)\n",
    "                if gene == 's1':\n",
    "                    if feature.qualifiers['product'] == [genes_dict['spike']]:\n",
    "                        s1_nt_coords = get_s1_coords(virus)\n",
    "                        gene_nt = feature.location.extract(sequence)[s1_nt_coords[0]:s1_nt_coords[1]]\n",
    "                if gene == 's2':\n",
    "                    if feature.qualifiers['product'] == [genes_dict['spike']]:\n",
    "                        s2_nt_coords = get_s2_coords(virus)\n",
    "                        gene_nt = feature.location.extract(sequence)[s2_nt_coords[0]:s2_nt_coords[1]]\n",
    "    return gene_nt"
   ]
  },
  {
   "cell_type": "code",
   "execution_count": 12,
   "metadata": {},
   "outputs": [],
   "source": [
    "#From aligned .fasta, extract just the portion of the genome encoding each gene\n",
    "def extract_genes(virus):\n",
    "    \n",
    "    aligned_fasta = \"../\"+str(virus)+\"/results/aligned_\"+str(virus)+\"_full.fasta\"\n",
    "    original_fasta = \"../\"+str(virus)+\"/data/\"+str(virus)+\"_full.fasta\"\n",
    "    \n",
    "    genes_dict = get_virus_genes(virus)\n",
    "    genes = [k for k,v in genes_dict.items()]\n",
    "    \n",
    "    for gene in genes:\n",
    "        output_fasta = \"../\"+str(virus)+\"/data/\"+str(virus)+\"_\"+str(gene)+\".fasta\"\n",
    "        gene_sequences = {}\n",
    "        with open(aligned_fasta, \"r\") as handle:\n",
    "            alignment = SeqIO.parse(handle, \"fasta\")\n",
    "            for aligned_record in alignment:\n",
    "                gene_nt = get_gene_position_test(virus, gene, aligned_record.seq)\n",
    "                gene_nt_str = str(gene_nt)\n",
    "                #Throw out sequences that don't cover gene\n",
    "                num_unaligned_gene = Counter(gene_nt_str)['N']\n",
    "                if num_unaligned_gene < (len(gene_nt)/2):\n",
    "                    gene_sequences[aligned_record.id] = gene_nt\n",
    "        \n",
    "        gene_entries = []\n",
    "\n",
    "        with open(original_fasta, \"r\") as handle_2:\n",
    "            metadata = SeqIO.parse(handle_2, \"fasta\")\n",
    "            for meta_record in metadata:\n",
    "                strain_accession = meta_record.id.split('|')[0]\n",
    "                if str(strain_accession) in gene_sequences.keys():\n",
    "                    gene_record = SeqRecord(gene_sequences[strain_accession], id=meta_record.id, description=meta_record.id)\n",
    "                    gene_entries.append(gene_record)\n",
    "\n",
    "        SeqIO.write(gene_entries, output_fasta, \"fasta\")\n"
   ]
  }
 ],
 "metadata": {
  "kernelspec": {
   "display_name": "Python 3",
   "language": "python",
   "name": "python3"
  },
  "language_info": {
   "codemirror_mode": {
    "name": "ipython",
    "version": 3
   },
   "file_extension": ".py",
   "mimetype": "text/x-python",
   "name": "python",
   "nbconvert_exporter": "python",
   "pygments_lexer": "ipython3",
   "version": "3.6.10"
  }
 },
 "nbformat": 4,
 "nbformat_minor": 4
}
