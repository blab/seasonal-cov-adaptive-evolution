{
 "cells": [
  {
   "cell_type": "code",
   "execution_count": 2,
   "metadata": {},
   "outputs": [],
   "source": [
    "import re\n",
    "from Bio import SeqIO\n",
    "from Bio.SeqRecord import SeqRecord"
   ]
  },
  {
   "cell_type": "code",
   "execution_count": 23,
   "metadata": {},
   "outputs": [],
   "source": [
    "with open(\"../../data/cov_full_raw.fasta\", \"r\") as handle:\n",
    "    new_cov_records = []\n",
    "    for record in SeqIO.parse(handle, \"fasta\"):\n",
    "        date = record.description.split('|')[3].replace('_','-')\n",
    "        if len(date)==4:\n",
    "            date = date+'-XX-XX'\n",
    "        if len(date)==7:\n",
    "            date = date+'-XX'\n",
    "        fix_date_description = record.description.split('|')\n",
    "        fix_date_description[3] = date\n",
    "        fix_date_description.pop(2)\n",
    "        fix_date_description.pop(5)\n",
    "        fix_date_description = '|'.join(fix_date_description)\n",
    "        new_record = SeqRecord(record.seq, id= fix_date_description, \n",
    "                               name= fix_date_description, description= fix_date_description)\n",
    "        new_cov_records.append(new_record)\n",
    "    SeqIO.write(new_cov_records, \"../../data/cov_full.fasta\", 'fasta')"
   ]
  }
 ],
 "metadata": {
  "kernelspec": {
   "display_name": "Python 3",
   "language": "python",
   "name": "python3"
  },
  "language_info": {
   "codemirror_mode": {
    "name": "ipython",
    "version": 3
   },
   "file_extension": ".py",
   "mimetype": "text/x-python",
   "name": "python",
   "nbconvert_exporter": "python",
   "pygments_lexer": "ipython3",
   "version": "3.6.10"
  }
 },
 "nbformat": 4,
 "nbformat_minor": 4
}
