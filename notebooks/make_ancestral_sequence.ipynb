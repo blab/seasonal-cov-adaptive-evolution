{
 "cells": [
  {
   "cell_type": "code",
   "execution_count": 1,
   "metadata": {},
   "outputs": [],
   "source": [
    "import pandas as pd\n",
    "from Bio import SeqIO\n",
    "from Bio.SeqRecord import SeqRecord\n",
    "import matplotlib.pyplot as plt"
   ]
  },
  {
   "cell_type": "code",
   "execution_count": 5,
   "metadata": {},
   "outputs": [],
   "source": [
    "nt_muts_1967 = [\"C74A\",\n",
    "        \"C269G\",\n",
    "        \"G352C\",\n",
    "        \"T444G\",\n",
    "        \"T525A\",\n",
    "        \"A1418G\",\n",
    "        \"T1432C\",\n",
    "        \"A1483C\",\n",
    "        \"A1733G\",\n",
    "        \"C1913T\",\n",
    "        \"A2296G\",\n",
    "        \"T2358C\",\n",
    "        \"A2429T\",\n",
    "        \"C2787T\",\n",
    "        \"A2896T\",\n",
    "        \"A3503G\"]"
   ]
  },
  {
   "cell_type": "code",
   "execution_count": 26,
   "metadata": {},
   "outputs": [],
   "source": [
    "with open('../wip-bhatt/ancestral_oc43_spike.fasta', \"r\") as handle:\n",
    "    for record in SeqIO.parse(handle, \"fasta\"):\n",
    "        mutable_seq = record.seq.tomutable()\n",
    "        for nt_mut in nt_muts_1967:\n",
    "            pos = int(nt_mut[1:-1])-1\n",
    "            #make sure\n",
    "            if str(mutable_seq[pos]) == str(nt_mut[-1]):\n",
    "                mutable_seq[pos] = str(nt_mut[0])\n",
    "            else:\n",
    "                print('indexing is wrong')\n",
    "        SeqIO.write(SeqRecord(mutable_seq), '../wip-bhatt/ancestral_oc43_spike.fasta', \"fasta\")\n"
   ]
  },
  {
   "cell_type": "code",
   "execution_count": null,
   "metadata": {},
   "outputs": [],
   "source": []
  }
 ],
 "metadata": {
  "kernelspec": {
   "display_name": "Python 3",
   "language": "python",
   "name": "python3"
  },
  "language_info": {
   "codemirror_mode": {
    "name": "ipython",
    "version": 3
   },
   "file_extension": ".py",
   "mimetype": "text/x-python",
   "name": "python",
   "nbconvert_exporter": "python",
   "pygments_lexer": "ipython3",
   "version": "3.6.10"
  }
 },
 "nbformat": 4,
 "nbformat_minor": 4
}
