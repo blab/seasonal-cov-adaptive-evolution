{
 "cells": [
  {
   "cell_type": "code",
   "execution_count": 74,
   "metadata": {},
   "outputs": [],
   "source": [
    "import re\n",
    "from Bio import SeqIO\n",
    "from Bio.SeqRecord import SeqRecord\n",
    "from Bio.SeqFeature import SeqFeature, FeatureLocation\n",
    "from Bio import AlignIO\n",
    "from collections import Counter "
   ]
  },
  {
   "cell_type": "code",
   "execution_count": 75,
   "metadata": {},
   "outputs": [],
   "source": [
    "#Gene positions for each virus\n",
    "def get_virus_genes(virus):\n",
    "    if virus == 'nl63':\n",
    "        genes_dict = {'replicase1ab':\"replicase polyprotein 1ab\", 'spike':\"spike protein\", 'protein3':\"protein 3\", \n",
    "                      'envelope':\"envelope protein\", 'membrane':\"membrane protein\", 'nucleocapsid':\"nucleocapsid protein\", \n",
    "                      's1':'spike_subdomain1', 's2':'spike_subdomain2'}\n",
    "    elif virus == '229e':\n",
    "        genes_dict = {'replicase1ab':\"replicase polyprotein 1ab\", 'replicase1a': \"replicase polyprotein 1a\", 'spike':\"surface glycoprotein\", \n",
    "                      'protein4a':\"4a protein\", 'protein4b':\"4b protein\",\n",
    "                      'envelope':\"envelope protein\", 'membrane':\"membrane protein\", 'nucleocapsid':\"nucleocapsid protein\", \n",
    "                      's1':'spike_subdomain1', 's2':'spike_subdomain2'}\n",
    "    elif virus == 'hku1':\n",
    "        genes_dict = {'replicase1ab':\"orf1ab polyprotein\", 'he':\"hemagglutinin-esterase glycoprotein\", \n",
    "                      'spike':\"spike glycoprotein\", 'nonstructural4':\"non-structural protein\",\n",
    "                      'envelope':\"small membrane protein\", 'membrane':\"membrane glycoprotein\", \n",
    "                      'nucleocapsid':\"nucleocapsid phosphoprotein\", 'nucleocapsid2':\"nucleocapsid phosphoprotein 2\", \n",
    "                      's1':'spike_subdomain1', 's2':'spike_subdomain2'}\n",
    "    elif virus == 'oc43':\n",
    "        genes_dict = {'replicase1ab':\"replicase polyprotein\", 'nonstructural2a':\"NS2a protein\",\n",
    "                      'he':\"HE protein\", 'spike':\"S protein\", 'nonstructural2':\"NS2 protein\",\n",
    "                      'envelope':\"NS3 protein\", 'membrane':\"M protein\", \n",
    "                      'nucleocapsid':\"N protein\", 'n2protein':\"N2 protein\", \n",
    "                      's1':'spike_subdomain1', 's2':'spike_subdomain2'}\n",
    "    return genes_dict\n"
   ]
  },
  {
   "cell_type": "code",
   "execution_count": 32,
   "metadata": {},
   "outputs": [],
   "source": [
    "#first 6 aas of each domain\n",
    "#from uniprot: NL63 (Q6Q1S2), 229e(P15423), oc43 (P36334), hku1 (Q0ZME7)\n",
    "s1_domains = {'nl63': 'CNSNAN', '229e': 'CQTTNG', 'oc43': 'AVIGDL', 'hku1': 'AVIGDF'}\n",
    "s2_domains = {'nl63': 'SNGGNN', '229e': 'SNGTYN', 'oc43': 'AITTGY', 'hku1': 'SISASY'}"
   ]
  },
  {
   "cell_type": "code",
   "execution_count": 87,
   "metadata": {},
   "outputs": [],
   "source": [
    "def get_s1_coords(virus):\n",
    "    spike_reference = '../'+str(virus)+'/config/'+str(virus)+'_spike_reference.gb'\n",
    "\n",
    "    with open(spike_reference, \"r\") as handle:\n",
    "        for record in SeqIO.parse(handle, \"genbank\"):\n",
    "            nt_seq = record.seq\n",
    "            aa_seq = record.seq.translate()\n",
    "            \n",
    "            s1_regex = re.compile(f'{s1_domains[virus]}.*(?={s2_domains[virus]})')\n",
    "            s1_aa = s1_regex.search(str(aa_seq)).group()\n",
    "            s1_aa_coords = [(aa.start(0), aa.end(0)) for aa in re.finditer(s1_regex, str(aa_seq))][0]\n",
    "            s1_nt_coords = [s1_aa_coords[0]*3, s1_aa_coords[1]*3]\n",
    "    return s1_nt_coords"
   ]
  },
  {
   "cell_type": "code",
   "execution_count": 88,
   "metadata": {},
   "outputs": [],
   "source": [
    "def get_s2_coords(virus):\n",
    "    spike_reference = '../'+str(virus)+'/config/'+str(virus)+'_spike_reference.gb'\n",
    "\n",
    "    with open(spike_reference, \"r\") as handle:\n",
    "        for record in SeqIO.parse(handle, \"genbank\"):\n",
    "            nt_seq = record.seq\n",
    "            aa_seq = record.seq.translate()\n",
    "            \n",
    "            s2_regex = re.compile(f'{s2_domains[virus]}.*')\n",
    "            s2_aa = s2_regex.search(str(aa_seq)).group()\n",
    "            s2_aa_coords = [(aa.start(0), aa.end(0)) for aa in re.finditer(s2_regex, str(aa_seq))][0]\n",
    "            s2_nt_coords = [s2_aa_coords[0]*3, s2_aa_coords[1]*3]\n",
    "    return s2_nt_coords"
   ]
  },
  {
   "cell_type": "code",
   "execution_count": 90,
   "metadata": {},
   "outputs": [],
   "source": [
    "#Gene positions for each virus\n",
    "def get_gene_position_test(virus, gene, sequence):\n",
    "    genes_dict = get_virus_genes(virus)\n",
    "    \n",
    "    for seq_record in SeqIO.parse(\"../\"+str(virus)+\"/config/\"+str(virus)+\"_full_reference.gb\", \"genbank\"):\n",
    "        for feature in seq_record.features:\n",
    "            if feature.type == 'CDS':\n",
    "                if gene != 's1' and gene != 's2':\n",
    "                    if feature.qualifiers['product'] == [genes_dict[gene]]:\n",
    "                        gene_nt = feature.location.extract(sequence)\n",
    "                if gene == 's1':\n",
    "                    if feature.qualifiers['product'] == [genes_dict['spike']]:\n",
    "                        s1_nt_coords = get_s1_coords(virus)\n",
    "                        gene_nt = feature.location.extract(sequence)[s1_nt_coords[0]:s1_nt_coords[1]]\n",
    "                if gene == 's2':\n",
    "                    if feature.qualifiers['product'] == [genes_dict['spike']]:\n",
    "                        s2_nt_coords = get_s2_coords(virus)\n",
    "                        gene_nt = feature.location.extract(sequence)[s2_nt_coords[0]:s2_nt_coords[1]]\n",
    "    return gene_nt"
   ]
  },
  {
   "cell_type": "code",
   "execution_count": 94,
   "metadata": {},
   "outputs": [],
   "source": [
    "#From aligned .fasta, extract just the portion of the genome encoding each gene\n",
    "def extract_genes(virus):\n",
    "    \n",
    "    aligned_fasta = \"../\"+str(virus)+\"/results/aligned_\"+str(virus)+\"_full.fasta\"\n",
    "    original_fasta = \"../\"+str(virus)+\"/data/\"+str(virus)+\"_full.fasta\"\n",
    "    \n",
    "    genes_dict = get_virus_genes(virus)\n",
    "    genes = [k for k,v in genes_dict.items()]\n",
    "    \n",
    "    for gene in genes:\n",
    "        output_fasta = \"../\"+str(virus)+\"/data/\"+str(virus)+\"_\"+str(gene)+\".fasta\"\n",
    "        gene_sequences = {}\n",
    "        with open(aligned_fasta, \"r\") as handle:\n",
    "            alignment = SeqIO.parse(handle, \"fasta\")\n",
    "            for aligned_record in alignment:\n",
    "                gene_nt = get_gene_position_test(virus, gene, aligned_record.seq)\n",
    "                gene_nt_str = str(gene_nt)\n",
    "                #Throw out sequences that don't cover gene\n",
    "                num_unaligned_gene = Counter(gene_nt_str)['N']\n",
    "                if num_unaligned_gene < (len(gene_nt)/2):\n",
    "                    gene_sequences[aligned_record.id] = gene_nt\n",
    "        \n",
    "        gene_entries = []\n",
    "\n",
    "        with open(original_fasta, \"r\") as handle_2:\n",
    "            metadata = SeqIO.parse(handle_2, \"fasta\")\n",
    "            for meta_record in metadata:\n",
    "                strain_name = meta_record.id.split('|')[1]\n",
    "                if str(strain_name) in gene_sequences.keys():\n",
    "                    gene_record = SeqRecord(gene_sequences[strain_name], id=meta_record.id, description=meta_record.id)\n",
    "                    gene_entries.append(gene_record)\n",
    "\n",
    "        SeqIO.write(gene_entries, output_fasta, \"fasta\")\n"
   ]
  },
  {
   "cell_type": "code",
   "execution_count": 98,
   "metadata": {},
   "outputs": [],
   "source": [
    "extract_genes('nl63')"
   ]
  },
  {
   "cell_type": "code",
   "execution_count": null,
   "metadata": {},
   "outputs": [],
   "source": [
    "###Old below"
   ]
  },
  {
   "cell_type": "code",
   "execution_count": null,
   "metadata": {},
   "outputs": [],
   "source": [
    "#Gene positions for each virus\n",
    "def get_gene_position(virus, gene, sequence):\n",
    "    genes_dict = get_virus_genes(virus)\n",
    "    \n",
    "    for seq_record in SeqIO.parse(\"../\"+str(virus)+\"/config/\"+str(virus)+\"_full_reference.gb\", \"genbank\"):\n",
    "        for feature in seq_record.features:\n",
    "            if feature.type == 'CDS':\n",
    "                if feature.qualifiers['product'] == [genes_dict[gene]]:\n",
    "                    gene_nt = feature.location.extract(sequence)\n",
    "\n",
    "    return gene_nt\n"
   ]
  },
  {
   "cell_type": "code",
   "execution_count": 122,
   "metadata": {},
   "outputs": [],
   "source": [
    "#From aligned .fasta, extract just the portion of the genome encoding Spike\n",
    "def extract_spike(aligned_fasta, original_fasta, output_spike_fasta, output_he_fasta):\n",
    "    \n",
    "    spike_sequences = {}\n",
    "    he_sequences = {}\n",
    "    with open(aligned_fasta, \"r\") as handle:\n",
    "        alignment = SeqIO.parse(handle, \"fasta\")\n",
    "        for record in alignment:\n",
    "            spike_nt = record.seq[23643:27729]\n",
    "            spike_nt_str = str(spike_nt)\n",
    "            #Throw out sequences that don't cover Spike\n",
    "            num_unaligned_spike = Counter(spike_nt_str)['N']\n",
    "            if num_unaligned_spike < (len(spike_nt)/2):\n",
    "                spike_sequences[record.id] = spike_nt\n",
    "            \n",
    "            he_nt = record.seq[22354:23629]\n",
    "            he_nt_str = str(he_nt)\n",
    "            #Throw out sequences that don't cover HE\n",
    "            num_unaligned_he = Counter(he_nt_str)['N']\n",
    "            if num_unaligned_he < (len(he_nt)/2):\n",
    "                he_sequences[record.id] = he_nt\n",
    "                \n",
    "    print(len(spike_sequences))\n",
    "    print(len(he_sequences))\n",
    "    \n",
    "    spike_entries = []\n",
    "    he_entries = []\n",
    "    with open(original_fasta, \"r\") as handle_2:\n",
    "        metadata = SeqIO.parse(handle_2, \"fasta\")\n",
    "        for record in metadata:\n",
    "            gb_id = record.id.split('|')[0]\n",
    "            if gb_id in spike_sequences.keys():\n",
    "                spike_record = SeqRecord(spike_sequences[gb_id], id=record.id, description=record.id)\n",
    "                spike_entries.append(spike_record)\n",
    "            if gb_id in he_sequences.keys():\n",
    "                he_record = SeqRecord(he_sequences[gb_id], id=record.id, description=record.id)\n",
    "                he_entries.append(he_record)\n",
    "                \n",
    "    SeqIO.write(spike_entries, output_spike_fasta, \"fasta\")\n",
    "    SeqIO.write(he_entries, output_he_fasta, \"fasta\")"
   ]
  },
  {
   "cell_type": "code",
   "execution_count": 127,
   "metadata": {},
   "outputs": [
    {
     "name": "stdout",
     "output_type": "stream",
     "text": [
      "39\n",
      "29\n"
     ]
    }
   ],
   "source": [
    "extract_spike(\"../nextstrain/seasonal-corona-genome/results/aligned_hku1.fasta\", \n",
    "              \"../nextstrain/seasonal-corona-genome/data/hku1_datefix.fasta\", \n",
    "              \"../nextstrain/seasonal-corona-beta/data/hku1_spike_genomealign.fasta\", \n",
    "              \"../nextstrain/seasonal-corona-beta/data/hku1_he_genomealign.fasta\")\n"
   ]
  }
 ],
 "metadata": {
  "kernelspec": {
   "display_name": "Python 3",
   "language": "python",
   "name": "python3"
  },
  "language_info": {
   "codemirror_mode": {
    "name": "ipython",
    "version": 3
   },
   "file_extension": ".py",
   "mimetype": "text/x-python",
   "name": "python",
   "nbconvert_exporter": "python",
   "pygments_lexer": "ipython3",
   "version": "3.6.10"
  }
 },
 "nbformat": 4,
 "nbformat_minor": 2
}
