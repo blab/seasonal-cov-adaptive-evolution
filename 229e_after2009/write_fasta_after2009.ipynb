{
 "cells": [
  {
   "cell_type": "code",
   "execution_count": 1,
   "metadata": {},
   "outputs": [],
   "source": [
    "import re\n",
    "import json\n",
    "import pandas as pd\n",
    "import numpy as np\n",
    "import matplotlib.pyplot as plt\n",
    "import seaborn as sns\n",
    "from Bio import SeqIO\n",
    "from Bio.Seq import Seq\n",
    "from Bio.SeqRecord import SeqRecord\n",
    "from Bio import AlignIO\n",
    "from Bio.SeqFeature import SeqFeature, FeatureLocation\n",
    "from Bio.Align import MultipleSeqAlignment\n",
    "from Bio.Alphabet import IUPAC\n",
    "from Bio.Align import AlignInfo"
   ]
  },
  {
   "cell_type": "code",
   "execution_count": 6,
   "metadata": {},
   "outputs": [],
   "source": [
    "genes = ['spike', 's1']\n",
    "\n",
    "for gene in genes:\n",
    "    after_2009_records = []\n",
    "\n",
    "    data_file = f'data/229e_{gene}.fasta'\n",
    "    with open(data_file, \"r\") as handle:\n",
    "        for virus in SeqIO.parse(handle, \"fasta\"):\n",
    "            virus_id = virus.id.split('|')[0]\n",
    "            virus_date = virus_id.split('/')[-1]\n",
    "            if virus_date == 'NA':\n",
    "                pass\n",
    "            else:\n",
    "                virus_date = int(virus_date)\n",
    "                if virus_date >= 2009:\n",
    "                    after_2009_records.append(SeqRecord(virus.seq, id=virus.id, description=virus.description))\n",
    "\n",
    "    SeqIO.write(after_2009_records, f'data/229e_{gene}_after2009.fasta', \"fasta\")\n",
    "                    \n",
    "    "
   ]
  },
  {
   "cell_type": "code",
   "execution_count": null,
   "metadata": {},
   "outputs": [],
   "source": []
  },
  {
   "cell_type": "code",
   "execution_count": null,
   "metadata": {},
   "outputs": [],
   "source": []
  }
 ],
 "metadata": {
  "kernelspec": {
   "display_name": "ncov-kernel",
   "language": "python",
   "name": "ncov-kernel"
  },
  "language_info": {
   "codemirror_mode": {
    "name": "ipython",
    "version": 3
   },
   "file_extension": ".py",
   "mimetype": "text/x-python",
   "name": "python",
   "nbconvert_exporter": "python",
   "pygments_lexer": "ipython3",
   "version": "3.6.13"
  }
 },
 "nbformat": 4,
 "nbformat_minor": 2
}
