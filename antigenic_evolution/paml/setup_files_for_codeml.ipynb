{
 "cells": [
  {
   "cell_type": "code",
   "execution_count": 94,
   "metadata": {},
   "outputs": [],
   "source": [
    "import os\n",
    "from ete3 import Tree\n",
    "from Bio import SeqIO"
   ]
  },
  {
   "cell_type": "code",
   "execution_count": 86,
   "metadata": {},
   "outputs": [],
   "source": [
    "#Make directory structure for virus/gene\n",
    "def make_directories(virus_path, gene_path):\n",
    "    if os.path.exists(virus_path):\n",
    "        if os.path.exists(gene_path):\n",
    "            pass\n",
    "        else:\n",
    "            os.mkdir(gene_path)\n",
    "    else:\n",
    "        os.mkdir(virus_path)\n",
    "        os.mkdir(gene_path)"
   ]
  },
  {
   "cell_type": "code",
   "execution_count": 141,
   "metadata": {},
   "outputs": [],
   "source": [
    "#Excludes internal nodes and branch lengths\n",
    "#Write tree into paml4.8/virus/gene directory\n",
    "def edit_newick_for_paml(virus, gene, gene_path):\n",
    "    paml_newick = gene_path+'pamltree_'+str(virus)+'_'+str(gene)+'.nwk'\n",
    "    if not os.path.exists(paml_newick):\n",
    "        nextstrain_newick = '../../'+str(virus)+'/results/tree_'+str(virus)+'_'+str(gene)+'.nwk'\n",
    "        tree=Tree(nextstrain_newick, format=1)\n",
    "        tree.write(format=9, outfile = paml_newick)"
   ]
  },
  {
   "cell_type": "code",
   "execution_count": 142,
   "metadata": {},
   "outputs": [],
   "source": [
    "#Remove reference sequence from aligned sequence file\n",
    "def edit_aligned_for_paml(virus, gene, gene_path):\n",
    "    paml_aligned = gene_path+'pamlaligned_'+str(virus)+'_'+str(gene)+'.fasta'\n",
    "    if not os.path.exists(paml_aligned):\n",
    "        ref_seqs = {'oc43': 'AY391777.1', '229e':'AF304460.1', 'nl63':'AY567487.2', 'hku1':'NC_006577.2'}\n",
    "        nextstrain_aligned = '../../'+str(virus)+'/results/aligned_'+str(virus)+'_'+str(gene)+'.fasta'\n",
    "        aligned = SeqIO.parse(nextstrain_aligned, 'fasta')\n",
    "        paml_sequences = []\n",
    "        for record in aligned:\n",
    "            if ref_seqs[virus] in record.id:\n",
    "                pass\n",
    "            else:\n",
    "                paml_sequences.append(record)\n",
    "        SeqIO.write(paml_sequences, paml_aligned, \"fasta\")"
   ]
  },
  {
   "cell_type": "code",
   "execution_count": 143,
   "metadata": {},
   "outputs": [],
   "source": [
    "#Edit codeml control file for virus, gene\n",
    "def edit_control_file(virus, gene, gene_path):\n",
    "    paml_control = gene_path+'codeml.ctl'\n",
    "    if not os.path.exists(paml_control):\n",
    "        codeml_control = 'paml4.8/codeml.ctl'\n",
    "\n",
    "        new_control = []\n",
    "        with open(codeml_control, 'r') as handle:\n",
    "            for line in handle.readlines():\n",
    "                if 'seqfile' in line:\n",
    "                    new_seqfile = '      seqfile = pamlaligned_'+str(virus)+'_'+str(gene)+'.fasta * sequence data filename\\n'\n",
    "                    new_control.append(new_seqfile)\n",
    "                elif 'treefile' in line:\n",
    "                    new_treefile = '     treefile = pamltree_'+str(virus)+'_'+str(gene)+'.nwk      * tree structure file name\\n'\n",
    "                    new_control.append(new_treefile)\n",
    "                elif 'outfile' in line:\n",
    "                    new_outfile = '      outfile = '+str(virus)+'_'+str(gene)+'           * main result file name\\n'\n",
    "                    new_control.append(new_outfile)\n",
    "                else:\n",
    "                    new_control.append(line)\n",
    "\n",
    "        with open(paml_control, 'w') as edit_handle:\n",
    "            edit_handle.writelines(new_control)"
   ]
  },
  {
   "cell_type": "code",
   "execution_count": 136,
   "metadata": {},
   "outputs": [],
   "source": [
    "#Set up all necessary files for codeml\n",
    "def codeml_setup(virus, gene):\n",
    "    virus_path = 'paml4.8/'+str(virus)+'/'\n",
    "    gene_path = virus_path+str(gene)+'/'\n",
    "    \n",
    "    make_directories(virus_path, gene_path)\n",
    "    edit_newick_for_paml(virus, gene, gene_path)\n",
    "    edit_aligned_for_paml(virus, gene, gene_path)\n",
    "    edit_control_file(virus, gene, gene_path)"
   ]
  },
  {
   "cell_type": "code",
   "execution_count": 147,
   "metadata": {},
   "outputs": [],
   "source": [
    "viruses = ['oc43']\n",
    "genes = ['spike', 's1', 's2', 'replicase1ab']\n",
    "for virus in viruses:\n",
    "    for gene in genes:\n",
    "        codeml_setup(virus, gene)"
   ]
  }
 ],
 "metadata": {
  "kernelspec": {
   "display_name": "Python 3",
   "language": "python",
   "name": "python3"
  },
  "language_info": {
   "codemirror_mode": {
    "name": "ipython",
    "version": 3
   },
   "file_extension": ".py",
   "mimetype": "text/x-python",
   "name": "python",
   "nbconvert_exporter": "python",
   "pygments_lexer": "ipython3",
   "version": "3.6.10"
  }
 },
 "nbformat": 4,
 "nbformat_minor": 4
}
