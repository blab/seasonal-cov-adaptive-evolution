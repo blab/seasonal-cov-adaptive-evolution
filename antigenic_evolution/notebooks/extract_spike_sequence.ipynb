{
 "cells": [
  {
   "cell_type": "code",
   "execution_count": 105,
   "metadata": {},
   "outputs": [],
   "source": [
    "from Bio import SeqIO\n",
    "from Bio.SeqRecord import SeqRecord\n",
    "from Bio import AlignIO\n",
    "from collections import Counter "
   ]
  },
  {
   "cell_type": "code",
   "execution_count": null,
   "metadata": {},
   "outputs": [],
   "source": []
  },
  {
   "cell_type": "code",
   "execution_count": 122,
   "metadata": {},
   "outputs": [],
   "source": [
    "#From aligned .fasta, extract just the portion of the genome encoding Spike\n",
    "def extract_spike(aligned_fasta, original_fasta, output_spike_fasta, output_he_fasta):\n",
    "    \n",
    "    spike_sequences = {}\n",
    "    he_sequences = {}\n",
    "    with open(aligned_fasta, \"r\") as handle:\n",
    "        alignment = SeqIO.parse(handle, \"fasta\")\n",
    "        for record in alignment:\n",
    "            spike_nt = record.seq[23643:27729]\n",
    "            spike_nt_str = str(spike_nt)\n",
    "            #Throw out sequences that don't cover Spike\n",
    "            num_unaligned_spike = Counter(spike_nt_str)['N']\n",
    "            if num_unaligned_spike < (len(spike_nt)/2):\n",
    "                spike_sequences[record.id] = spike_nt\n",
    "            \n",
    "            he_nt = record.seq[22354:23629]\n",
    "            he_nt_str = str(he_nt)\n",
    "            #Throw out sequences that don't cover HE\n",
    "            num_unaligned_he = Counter(he_nt_str)['N']\n",
    "            if num_unaligned_he < (len(he_nt)/2):\n",
    "                he_sequences[record.id] = he_nt\n",
    "                \n",
    "    print(len(spike_sequences))\n",
    "    print(len(he_sequences))\n",
    "    \n",
    "    spike_entries = []\n",
    "    he_entries = []\n",
    "    with open(original_fasta, \"r\") as handle_2:\n",
    "        metadata = SeqIO.parse(handle_2, \"fasta\")\n",
    "        for record in metadata:\n",
    "            gb_id = record.id.split('|')[0]\n",
    "            if gb_id in spike_sequences.keys():\n",
    "                spike_record = SeqRecord(spike_sequences[gb_id], id=record.id, description=record.id)\n",
    "                spike_entries.append(spike_record)\n",
    "            if gb_id in he_sequences.keys():\n",
    "                he_record = SeqRecord(he_sequences[gb_id], id=record.id, description=record.id)\n",
    "                he_entries.append(he_record)\n",
    "                \n",
    "    SeqIO.write(spike_entries, output_spike_fasta, \"fasta\")\n",
    "    SeqIO.write(he_entries, output_he_fasta, \"fasta\")"
   ]
  },
  {
   "cell_type": "code",
   "execution_count": 127,
   "metadata": {},
   "outputs": [
    {
     "name": "stdout",
     "output_type": "stream",
     "text": [
      "39\n",
      "29\n"
     ]
    }
   ],
   "source": [
    "extract_spike(\"../nextstrain/seasonal-corona-genome/results/aligned_hku1.fasta\", \n",
    "              \"../nextstrain/seasonal-corona-genome/data/hku1_datefix.fasta\", \n",
    "              \"../nextstrain/seasonal-corona-beta/data/hku1_spike_genomealign.fasta\", \n",
    "              \"../nextstrain/seasonal-corona-beta/data/hku1_he_genomealign.fasta\")\n"
   ]
  },
  {
   "cell_type": "code",
   "execution_count": 126,
   "metadata": {},
   "outputs": [
    {
     "name": "stdout",
     "output_type": "stream",
     "text": [
      "322\n",
      "69\n"
     ]
    }
   ],
   "source": [
    "extract_spike(\"../nextstrain/seasonal-corona-genome/results/aligned_oc43.fasta\", \n",
    "              \"../nextstrain/seasonal-corona-genome/data/oc43_datefix.fasta\", \n",
    "              \"../nextstrain/seasonal-corona-beta/data/oc43_spike_genomealign.fasta\", \n",
    "              \"../nextstrain/seasonal-corona-beta/data/oc43_he_genomealign.fasta\")\n"
   ]
  },
  {
   "cell_type": "code",
   "execution_count": 125,
   "metadata": {},
   "outputs": [
    {
     "name": "stdout",
     "output_type": "stream",
     "text": [
      "67\n",
      "119\n"
     ]
    }
   ],
   "source": [
    "extract_spike(\"../nextstrain/seasonal-corona-genome/results/aligned_nl63.fasta\", \n",
    "              \"../nextstrain/seasonal-corona-genome/data/nl63_datefix.fasta\", \n",
    "              \"../nextstrain/seasonal-corona-alpha/data/nl63_spike_genomealign.fasta\", \n",
    "              \"../nextstrain/seasonal-corona-alpha/data/nl63_he_genomealign.fasta\")"
   ]
  },
  {
   "cell_type": "code",
   "execution_count": 128,
   "metadata": {},
   "outputs": [
    {
     "name": "stdout",
     "output_type": "stream",
     "text": [
      "27\n",
      "58\n"
     ]
    }
   ],
   "source": [
    "extract_spike(\"../nextstrain/seasonal-corona-genome/results/aligned_229e.fasta\", \n",
    "              \"../nextstrain/seasonal-corona-genome/data/229e_datefix.fasta\", \n",
    "              \"../nextstrain/seasonal-corona-alpha/data/229e_spike_genomealign.fasta\", \n",
    "              \"../nextstrain/seasonal-corona-alpha/data/229e_he_genomealign.fasta\")"
   ]
  }
 ],
 "metadata": {
  "kernelspec": {
   "display_name": "Python 3",
   "language": "python",
   "name": "python3"
  },
  "language_info": {
   "codemirror_mode": {
    "name": "ipython",
    "version": 3
   },
   "file_extension": ".py",
   "mimetype": "text/x-python",
   "name": "python",
   "nbconvert_exporter": "python",
   "pygments_lexer": "ipython3",
   "version": "3.6.10"
  }
 },
 "nbformat": 4,
 "nbformat_minor": 2
}
