{
 "cells": [
  {
   "cell_type": "code",
   "execution_count": 8,
   "metadata": {},
   "outputs": [],
   "source": [
    "import math\n",
    "import json\n",
    "import pandas as pd\n",
    "import numpy as np\n",
    "from Bio import SeqIO\n",
    "from Bio.Seq import Seq\n",
    "from Bio.SeqRecord import SeqRecord\n",
    "import matplotlib.pyplot as plt\n",
    "import seaborn as sns\n",
    "from scipy import stats"
   ]
  },
  {
   "cell_type": "code",
   "execution_count": 20,
   "metadata": {},
   "outputs": [],
   "source": [
    "def calc_frequencies(cov, gene, window):\n",
    "    #Find percent polymorphism at each site\n",
    "    #Also determine whether polymorphism is silent or replacement\n",
    "    input_file_outgroup = '../'+str(cov)+'/auspice/seasonal_corona_'+str(cov)+'_'+str(gene)+'_root-sequence.json'\n",
    "    input_file_alignment = '../'+str(cov)+'/results/aligned_'+str(cov)+'_'+str(gene)+'.fasta'\n",
    "    metafile = '../'+str(cov)+'/results/metadata_'+str(cov)+'_'+str(gene)+'.tsv'\n",
    "\n",
    "    #Subset data based on time windows\n",
    "    meta = pd.read_csv(metafile, sep = '\\t')\n",
    "    meta.drop(meta[meta['date']=='?'].index, inplace=True)\n",
    "    meta['year'] = meta['date'].str[:4].astype('int')\n",
    "    date_range = meta['year'].max() - meta['year'].min()\n",
    "    \n",
    "    #Group viruses by time windows\n",
    "    virus_time_subset = {}\n",
    "    if window == 'all':\n",
    "        years = str(meta['year'].min()) + '-' + str(meta['year'].max())\n",
    "        virus_time_subset[years] = meta['strain'].tolist()\n",
    "    else:\n",
    "        date_window_start = meta['year'].min()\n",
    "        date_window_end = meta['year'].min() + window\n",
    "        while date_window_end <= meta['year'].max():\n",
    "            years = str(date_window_start) + '-' + str(date_window_end)\n",
    "            strains = meta[(meta['year']>=date_window_start) & (meta['year']<date_window_end)]['strain'].tolist()\n",
    "            virus_time_subset[years] = strains\n",
    "            #sliding window\n",
    "            date_window_end += 1\n",
    "            date_window_start += 1     \n",
    "\n",
    "    #initiate lists to record all time windows\n",
    "    year_windows = []\n",
    "    seqs_in_window = []\n",
    "    polymorphic_frequencies = []\n",
    "    replacement_frequencies = []\n",
    "    silent_frequencies = []\n",
    "    \n",
    "    for years, subset_viruses in virus_time_subset.items():\n",
    "        if len(subset_viruses) != 0:\n",
    "            year_windows.append(years)\n",
    "            seqs_in_window.append(len(subset_viruses))\n",
    "            \n",
    "            outgroup_seq = ''\n",
    "            outgroup_aa_seq = ''\n",
    "            with open(input_file_outgroup, \"r\") as outgroup_handle:\n",
    "                outgroup = json.load(outgroup_handle)\n",
    "                outgroup_seq = SeqRecord(Seq(outgroup['nuc']))\n",
    "                outgroup_aa_seq = outgroup_seq.translate()\n",
    "\n",
    "            count_polymorphic = np.zeros(len(outgroup_seq))\n",
    "            count_total_unambiguous = np.zeros(len(outgroup_seq))\n",
    "            count_replacement_mutations = np.zeros(len(outgroup_seq))\n",
    "            count_silent_mutations = np.zeros(len(outgroup_seq))\n",
    "\n",
    "            with open(input_file_alignment, \"r\") as aligned_handle:\n",
    "                for virus in SeqIO.parse(aligned_handle, \"fasta\"):\n",
    "                    #Only viruses in time window\n",
    "                    if virus.id in subset_viruses:\n",
    "                        #check\n",
    "                        if len(virus.seq) != len(outgroup_seq):\n",
    "                            print(virus)\n",
    "                        elif len(virus.seq) == len(outgroup_seq):\n",
    "                            for pos in range(len(outgroup_seq)):\n",
    "                                outgroup_nt = str(outgroup_seq[pos])\n",
    "                                virus_nt = str(virus.seq[pos])\n",
    "                                #skip ambiguous sites\n",
    "                                if virus_nt != 'N':\n",
    "                                    count_total_unambiguous[pos]+=1\n",
    "                                    if virus_nt != outgroup_nt:\n",
    "                                        count_polymorphic[pos]+=1\n",
    "                                        #determine silent or replacement\n",
    "                                        codon = math.floor(pos/3)\n",
    "                                        codon_pos = pos-(codon*3)\n",
    "                                        if codon_pos == 0:\n",
    "                                            codon_nt = virus.seq[pos:(pos+3)]\n",
    "                                        elif codon_pos == 1:\n",
    "                                            codon_nt = virus.seq[(pos-1):(pos+2)]\n",
    "                                        elif codon_pos == 2:\n",
    "                                            codon_nt = virus.seq[(pos-2):(pos+1)]\n",
    "                                        codon_aa = codon_nt.translate()\n",
    "                                        outgroup_aa = outgroup_aa_seq[codon]\n",
    "                                        if codon_aa != outgroup_aa:\n",
    "                                            count_replacement_mutations[pos]+=1\n",
    "                                        elif codon_aa == outgroup_aa:\n",
    "                                            count_silent_mutations[pos]+=1\n",
    "\n",
    "\n",
    "\n",
    "            polymorphic_frequencies_window = count_polymorphic/count_total_unambiguous\n",
    "            replacement_frequencies_window = count_replacement_mutations/count_polymorphic\n",
    "            silent_frequencies_window = count_silent_mutations/count_polymorphic\n",
    "            \n",
    "            polymorphic_frequencies.append(polymorphic_frequencies_window)\n",
    "            replacement_frequencies.append(replacement_frequencies_window)\n",
    "            silent_frequencies.append(silent_frequencies_window)\n",
    "            \n",
    "    return year_windows, seqs_in_window, polymorphic_frequencies, replacement_frequencies, silent_frequencies"
   ]
  },
  {
   "cell_type": "code",
   "execution_count": 21,
   "metadata": {},
   "outputs": [],
   "source": [
    "def bhatt_variables(cov, gene, window):\n",
    "    (year_windows,seqs_in_window, polymorphic_frequencies, replacement_frequencies, silent_frequencies) = calc_frequencies(cov, gene, window)\n",
    "    \n",
    "    #Initiate lists to store a values\n",
    "    window_midpoint = []\n",
    "    adaptive_substitutions = []\n",
    "    \n",
    "    \n",
    "    #Categorize sites into fixation, low freq, medium freq and high freq polymorphisms (and silent or replacement)\n",
    "    for years_window in range(len(polymorphic_frequencies)):\n",
    "        #don't use windows with fewer than 3 sequences\n",
    "        if seqs_in_window[years_window] >= 3:\n",
    "            window_start = int(year_windows[years_window][0:4])\n",
    "            window_end = int(year_windows[years_window][-4:])\n",
    "            window_midpoint.append((window_start + window_end)/2)\n",
    "\n",
    "            sf = 0\n",
    "            rf = 0\n",
    "            sh = 0\n",
    "            rh = 0\n",
    "            sm = 0\n",
    "            rm = 0\n",
    "            sl = 0\n",
    "            rl = 0\n",
    "\n",
    "            window_polymorphic_freqs = polymorphic_frequencies[years_window]\n",
    "            for site in range(len(window_polymorphic_freqs)):\n",
    "                pfreq = window_polymorphic_freqs[site]\n",
    "                #ignore sites with no polymorphisms?\n",
    "                if pfreq!= 0:\n",
    "                    if pfreq == 1:\n",
    "                        sf+= (pfreq*silent_frequencies[years_window][site])\n",
    "                        rf+= (pfreq*replacement_frequencies[years_window][site])\n",
    "                    elif pfreq > 0.75:\n",
    "                        sh+= (pfreq*silent_frequencies[years_window][site])\n",
    "                        rh+= (pfreq*replacement_frequencies[years_window][site])\n",
    "                    elif pfreq > 0.15 and pfreq < 0.75:\n",
    "                        sm+= (pfreq*silent_frequencies[years_window][site])\n",
    "                        rm+= (pfreq*replacement_frequencies[years_window][site])\n",
    "                    elif pfreq < 0.15:\n",
    "                        sl+= (pfreq*silent_frequencies[years_window][site])\n",
    "                        rl+= (pfreq*replacement_frequencies[years_window][site])       \n",
    "                        \n",
    "#             print(year_windows[years_window])\n",
    "#             print(sf, rf, sh, rh, sm, rm, sl, rl)  \n",
    "\n",
    "            #Calculate equation 1: number of nonneutral sites\n",
    "            al = rl - sl*(rm/sm)\n",
    "            ah = rh - sh*(rm/sm)\n",
    "            af = rf - sf*(rm/sm)\n",
    "            #set negative a values to zero\n",
    "            if al < 0:\n",
    "                al = 0\n",
    "            if ah < 0:\n",
    "                ah = 0\n",
    "            if af < 0:\n",
    "                af = 0\n",
    "\n",
    "#             print(al, ah, af)\n",
    "\n",
    "            #Calculate the number and proportion of all fixed or high-freq sites that have undergone adaptive change\n",
    "            number_adaptive_substitutions = af + ah\n",
    "            adaptive_substitutions.append(number_adaptive_substitutions)\n",
    "            proportion_adaptive_sites = (af + ah)/(rf +rh)\n",
    "            \n",
    "    # get coeffs of linear fit\n",
    "    slope, intercept, r_value, p_value, std_err = stats.linregress(window_midpoint, adaptive_substitutions)\n",
    "    \n",
    "    ax = sns.regplot(x= window_midpoint, y=adaptive_substitutions, \n",
    "                     line_kws={'label':\"y={0:.1f}x+{1:.1f}\".format(slope,intercept)})\n",
    "    plt.ylabel('number of adaptive substitutions')\n",
    "    plt.xlabel('year')\n",
    "    \n",
    "    ax.legend()\n",
    "    plt.show()\n",
    "        "
   ]
  },
  {
   "cell_type": "code",
   "execution_count": 22,
   "metadata": {},
   "outputs": [
    {
     "name": "stderr",
     "output_type": "stream",
     "text": [
      "/Users/katekistler/anaconda3/envs/nextstrain/lib/python3.6/site-packages/ipykernel_launcher.py:87: RuntimeWarning: invalid value encountered in true_divide\n",
      "/Users/katekistler/anaconda3/envs/nextstrain/lib/python3.6/site-packages/ipykernel_launcher.py:88: RuntimeWarning: invalid value encountered in true_divide\n",
      "/Users/katekistler/anaconda3/envs/nextstrain/lib/python3.6/site-packages/ipykernel_launcher.py:89: RuntimeWarning: invalid value encountered in true_divide\n",
      "/Users/katekistler/anaconda3/envs/nextstrain/lib/python3.6/site-packages/ipykernel_launcher.py:64: RuntimeWarning: invalid value encountered in double_scalars\n"
     ]
    },
    {
     "data": {
      "image/png": "[encoded data removed]",
      "text/plain": [
       "<Figure size 432x288 with 1 Axes>"
      ]
     },
     "metadata": {
      "needs_background": "light"
     },
     "output_type": "display_data"
    }
   ],
   "source": [
    "bhatt_variables('oc43', 'spike', 5)"
   ]
  },
  {
   "cell_type": "code",
   "execution_count": 18,
   "metadata": {},
   "outputs": [
    {
     "name": "stderr",
     "output_type": "stream",
     "text": [
      "/Users/katekistler/anaconda3/envs/nextstrain/lib/python3.6/site-packages/ipykernel_launcher.py:88: RuntimeWarning: invalid value encountered in true_divide\n",
      "/Users/katekistler/anaconda3/envs/nextstrain/lib/python3.6/site-packages/ipykernel_launcher.py:89: RuntimeWarning: invalid value encountered in true_divide\n",
      "/Users/katekistler/anaconda3/envs/nextstrain/lib/python3.6/site-packages/ipykernel_launcher.py:64: RuntimeWarning: invalid value encountered in double_scalars\n"
     ]
    },
    {
     "data": {
      "image/png": "[encoded data removed]",
      "text/plain": [
       "<Figure size 432x288 with 1 Axes>"
      ]
     },
     "metadata": {
      "needs_background": "light"
     },
     "output_type": "display_data"
    }
   ],
   "source": [
    "bhatt_variables('oc43', 'replicase1ab', 5)"
   ]
  },
  {
   "cell_type": "code",
   "execution_count": 18,
   "metadata": {},
   "outputs": [
    {
     "name": "stderr",
     "output_type": "stream",
     "text": [
      "/Users/katekistler/anaconda3/envs/nextstrain/lib/python3.6/site-packages/ipykernel_launcher.py:87: RuntimeWarning: invalid value encountered in true_divide\n",
      "/Users/katekistler/anaconda3/envs/nextstrain/lib/python3.6/site-packages/ipykernel_launcher.py:88: RuntimeWarning: invalid value encountered in true_divide\n",
      "/Users/katekistler/anaconda3/envs/nextstrain/lib/python3.6/site-packages/ipykernel_launcher.py:89: RuntimeWarning: invalid value encountered in true_divide\n"
     ]
    },
    {
     "data": {
      "image/png": "[encoded data removed]",
      "text/plain": [
       "<Figure size 432x288 with 1 Axes>"
      ]
     },
     "metadata": {
      "needs_background": "light"
     },
     "output_type": "display_data"
    }
   ],
   "source": [
    "bhatt_variables('229e', 'spike', 5)"
   ]
  },
  {
   "cell_type": "code",
   "execution_count": null,
   "metadata": {},
   "outputs": [],
   "source": [
    "#Bhatt method to calculate rate of adaptation\n",
    "\n",
    "def calc_frequencies_old(cov, gene):\n",
    "    \n",
    "    #Find percent polymorphism at each site\n",
    "    #Also determine whether polymorphism is silent or replacement\n",
    "    input_file_outgroup = '../../config/'+str(cov)+'_'+str(gene)+'_reference.gb'\n",
    "    input_file_alignment = '../../results/aligned_'+str(cov)+'_'+str(gene)+'.fasta'\n",
    "    outgroup_seq = ''\n",
    "    outgroup_aa_seq = ''\n",
    "    with open(input_file_outgroup, \"r\") as outgroup_handle:\n",
    "        for outgroup in SeqIO.parse(outgroup_handle, \"genbank\"):\n",
    "            outgroup_seq = outgroup.seq\n",
    "            outgroup_aa_seq = outgroup.seq.translate()\n",
    "\n",
    "    count_polymorphic = np.zeros(len(outgroup.seq))\n",
    "    count_total_unambiguous = np.zeros(len(outgroup.seq))\n",
    "    count_replacement_mutations = np.zeros(len(outgroup.seq))\n",
    "    count_silent_mutations = np.zeros(len(outgroup.seq))\n",
    "\n",
    "    with open(input_file_alignment, \"r\") as aligned_handle:\n",
    "        for virus in SeqIO.parse(aligned_handle, \"fasta\"):\n",
    "            #check\n",
    "            if len(virus.seq) != len(outgroup_seq):\n",
    "                print(virus)\n",
    "            elif len(virus.seq) == len(outgroup_seq):\n",
    "                for pos in range(len(outgroup_seq)):\n",
    "                    outgroup_nt = str(outgroup_seq[pos])\n",
    "                    virus_nt = str(virus.seq[pos])\n",
    "                    #skip ambiguous sites\n",
    "                    if virus_nt != 'N':\n",
    "                        count_total_unambiguous[pos]+=1\n",
    "                        if virus_nt != outgroup_nt:\n",
    "                            count_polymorphic[pos]+=1\n",
    "                            #determine silent or replacement\n",
    "                            codon = math.floor(pos/3)\n",
    "                            codon_pos = pos-(codon*3)\n",
    "                            if codon_pos == 0:\n",
    "                                codon_nt = virus.seq[pos:(pos+3)]\n",
    "                            elif codon_pos == 1:\n",
    "                                codon_nt = virus.seq[(pos-1):(pos+2)]\n",
    "                            elif codon_pos == 2:\n",
    "                                codon_nt = virus.seq[(pos-2):(pos+1)]\n",
    "                            codon_aa = codon_nt.translate()\n",
    "                            outgroup_aa = outgroup_aa_seq[codon]\n",
    "                            if codon_aa != outgroup_aa:\n",
    "                                count_replacement_mutations[pos]+=1\n",
    "                            elif codon_aa == outgroup_aa:\n",
    "                                count_silent_mutations[pos]+=1\n",
    "\n",
    "\n",
    "\n",
    "    polymorphic_frequencies = count_polymorphic/count_total_unambiguous\n",
    "    replacement_frequencies = count_replacement_mutations/count_polymorphic\n",
    "    silent_frequencies = count_silent_mutations/count_polymorphic\n",
    "    return polymorphic_frequencies, replacement_frequencies, silent_frequencies"
   ]
  },
  {
   "cell_type": "code",
   "execution_count": null,
   "metadata": {},
   "outputs": [],
   "source": [
    "def calc_bhatt_variables_old(cov, gene):\n",
    "    (polymorphic_frequencies, replacement_frequencies, silent_frequencies) = calc_frequencies(cov, gene)\n",
    "    #Categorize sites into fixation, low freq, medium freq and high freq polymorphisms (and silent or replacement)\n",
    "\n",
    "    sf = 0\n",
    "    rf = 0\n",
    "    sh = 0\n",
    "    rh = 0\n",
    "    sm = 0\n",
    "    rm = 0\n",
    "    sl = 0\n",
    "    rl = 0\n",
    "\n",
    "    for site in range(len(polymorphic_frequencies)):\n",
    "        pfreq = polymorphic_frequencies[site]\n",
    "        #ignore sites with no polymorphisms?\n",
    "        if pfreq!= 0:\n",
    "            if pfreq == 1:\n",
    "                sf+= (pfreq*silent_frequencies[site])\n",
    "                rf+= (pfreq*replacement_frequencies[site])\n",
    "            elif pfreq > 0.75:\n",
    "                sh+= (pfreq*silent_frequencies[site])\n",
    "                rh+= (pfreq*replacement_frequencies[site])\n",
    "            elif pfreq > 0.15 and pfreq < 0.75:\n",
    "                sm+= (pfreq*silent_frequencies[site])\n",
    "                rm+= (pfreq*replacement_frequencies[site])\n",
    "            elif pfreq < 0.15:\n",
    "                sl+= (pfreq*silent_frequencies[site])\n",
    "                rl+= (pfreq*replacement_frequencies[site])            \n",
    "\n",
    "#     print(sf, rf, sh, rh, sm, rm, sl, rl)  \n",
    "\n",
    "    #Calculate equation 1: number of nonneutral sites\n",
    "    al = rl - sl*(rm/sm)\n",
    "    ah = rh - sh*(rm/sm)\n",
    "    af = rf - sf*(rm/sm)\n",
    "    \n",
    "    print(al, ah, af)\n",
    "\n",
    "    #Calculate the proportion of all fixed or high-freq sites that have undergone adaptive change\n",
    "    proportion_adaptive_sites = (af + ah)/(rf +rh)\n",
    "#     print(adaptive_sites)"
   ]
  },
  {
   "cell_type": "code",
   "execution_count": null,
   "metadata": {},
   "outputs": [],
   "source": [
    "calc_bhatt_variables_old('hku1', 'spike')"
   ]
  }
 ],
 "metadata": {
  "kernelspec": {
   "display_name": "Python 3",
   "language": "python",
   "name": "python3"
  },
  "language_info": {
   "codemirror_mode": {
    "name": "ipython",
    "version": 3
   },
   "file_extension": ".py",
   "mimetype": "text/x-python",
   "name": "python",
   "nbconvert_exporter": "python",
   "pygments_lexer": "ipython3",
   "version": "3.6.10"
  }
 },
 "nbformat": 4,
 "nbformat_minor": 4
}
